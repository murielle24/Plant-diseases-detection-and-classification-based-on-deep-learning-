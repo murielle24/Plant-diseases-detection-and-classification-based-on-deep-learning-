{
 "cells": [
  {
   "cell_type": "markdown",
   "metadata": {
    "id": "7BLM6UPLQ_um"
   },
   "source": [
    "# **Plant Disease Classification**\n",
    "\n",
    "---\n",
    "\n",
    "![alt text](https://cdn-images-1.medium.com/max/1200/1*FswlF4lZPQ4kT_gkybacZw.jpeg)\n",
    "\n",
    "\n",
    "# Introduction\n",
    "\n",
    "Getting affected by a disease is very common in plants due to various factors such as fertilizers, cultural practices followed, environmental conditions, etc. These diseases hurt agricultural yield and eventually the economy based on it. \n",
    "\n",
    "Any technique or method to overcome this problem and getting a warning before the plants are infected would aid farmers to efficiently cultivate crops or plants, both qualitatively and quantitatively. Thus, disease detection in plants plays a very important role in agriculture.\n"
   ]
  },
  {
   "cell_type": "markdown",
   "metadata": {
    "id": "y3YjEHM-HQpg"
   },
   "source": [
    "# Download Dataset\n"
   ]
  },
  {
   "cell_type": "markdown",
   "metadata": {
    "id": "I-nTknvLSCIH"
   },
   "source": [
    "First, we download the `PlantVillage` dataset from Google Drive by using the unique `id` it holds and unzip the downloaded **PlantVillage.zip** into the **PlantVillage** dataset folder."
   ]
  },
  {
   "cell_type": "markdown",
   "metadata": {
    "id": "NA5gRqs6y97j"
   },
   "source": [
    "# Import Libraries\n"
   ]
  },
  {
   "cell_type": "markdown",
   "metadata": {
    "id": "VUGtqDPgSmZJ"
   },
   "source": [
    "Importing necessary libraries and modules required to build the classification model."
   ]
  },
  {
   "cell_type": "code",
   "execution_count": 30,
   "metadata": {
    "ExecuteTime": {
     "end_time": "2024-06-11T19:04:44.733932Z",
     "start_time": "2024-06-11T19:04:44.729903Z"
    },
    "id": "AMUpYwh1HpCi"
   },
   "outputs": [],
   "source": [
    "# import numpy as np\n",
    "# import pickle\n",
    "# import cv2\n",
    "# import os\n",
    "# import matplotlib.pyplot as plt\n",
    "# from os import listdir\n",
    "# from sklearn.preprocessing import LabelBinarizer\n",
    "# from keras.models import Sequential\n",
    "from keras.layers import BatchNormalization\n",
    "# from keras.layers.convolutional import Conv2D\n",
    "# from keras.layers.convolutional import MaxPooling2D\n",
    "# from keras.layers.core import Activation, Flatten, Dropout, Dense\n",
    "# from keras import backend as K\n",
    "# from keras.preprocessing.image import ImageDataGenerator\n",
    "# from keras.optimizers import Adam\n",
    "# from keras.preprocessing import image\n",
    "# from keras.utils import img_to_array\n",
    "# from sklearn.preprocessing import MultiLabelBinarizer\n",
    "# from sklearn.model_selection import train_test_split"
   ]
  },
  {
   "cell_type": "code",
   "execution_count": 31,
   "metadata": {
    "ExecuteTime": {
     "end_time": "2024-06-11T19:04:44.789361Z",
     "start_time": "2024-06-11T19:04:44.786107Z"
    },
    "id": "B1JRNVU0S_eq"
   },
   "outputs": [],
   "source": [
    "# Building CNN based on AlexNet Architecture\n",
    "\n",
    "# Importing Keras libraries and packages\n",
    "from keras.models import Sequential\n",
    "from keras.layers import (Convolution2D)\n",
    "# , MaxPooling2D, Flatten, Dense, Dropout\n",
    "# from keras import optimizers\n",
    "# from keras.preprocessing.image import ImageDataGenerator\n",
    "# from keras.callbacks import ModelCheckpoint"
   ]
  },
  {
   "cell_type": "code",
   "execution_count": 32,
   "metadata": {
    "ExecuteTime": {
     "end_time": "2024-06-11T19:04:44.802966Z",
     "start_time": "2024-06-11T19:04:44.798600Z"
    },
    "id": "aFPjNCDiNF4f"
   },
   "outputs": [],
   "source": [
    "# import json\n",
    "# import time\n",
    "# \n",
    "# import joblib\n",
    "# import keras\n",
    "# import tensorflow\n",
    "# from keras.models import load_model\n",
    "from keras.layers.core import Dense, Dropout, Flatten\n",
    "from keras.layers.convolutional import MaxPooling2D\n",
    "# from keras.regularizers import l2\n",
    "# from keras.optimizers import SGD, RMSprop\n",
    "# from keras.utils import to_categorical\n",
    "# from keras.utils.vis_utils import plot_model\n",
    "# from keras.layers import Input, GlobalAveragePooling2D, concatenate, AveragePooling2D\n",
    "# from keras import models\n",
    "# from keras.models import Model\n",
    "from keras_preprocessing.image import ImageDataGenerator\n",
    "# import numpy as np\n",
    "# from keras import regularizers\n",
    "# from keras import backend as K\n",
    "# from keras.applications.inception_v3 import InceptionV3\n",
    "import matplotlib.pyplot as plt\n",
    "#from keras.callbacks import tensorboard_v1"
   ]
  },
  {
   "cell_type": "code",
   "execution_count": 33,
   "metadata": {
    "ExecuteTime": {
     "end_time": "2024-06-11T19:04:44.807393Z",
     "start_time": "2024-06-11T19:04:44.804879Z"
    },
    "id": "QNmahsdcHM_D"
   },
   "outputs": [],
   "source": [
    "import tensorflow as tf\n",
    "\n",
    "from tensorflow.keras.preprocessing import image_dataset_from_directory"
   ]
  },
  {
   "cell_type": "markdown",
   "metadata": {
    "id": "V_Chojawz3jw"
   },
   "source": [
    "# Load Dataset"
   ]
  },
  {
   "cell_type": "markdown",
   "metadata": {
    "id": "OyRk7kzTzOpO"
   },
   "source": [
    "Initializing a few parameters required for the image dataset preprocessing."
   ]
  },
  {
   "cell_type": "code",
   "execution_count": 34,
   "metadata": {
    "ExecuteTime": {
     "end_time": "2024-06-11T19:04:44.823307Z",
     "start_time": "2024-06-11T19:04:44.817277Z"
    }
   },
   "outputs": [],
   "source": [
    "import os\n",
    "import shutil\n",
    "import random\n",
    "\n",
    "def split_dataset(root_dir, new_root_dir):\n",
    "    \"\"\"\n",
    "    Divise un ensemble de données d'images en ensemble d'entraînement (80%) et de test (20%)\n",
    "    dans une nouvelle structure de dossiers.\n",
    "\n",
    "    Args:\n",
    "        root_dir (str): Chemin vers le dossier racine contenant les sous-dossiers de classes d'images.\n",
    "        new_root_dir (str): Chemin vers le nouveau dossier racine pour la nouvelle structure de dossiers.\n",
    "    \"\"\"\n",
    "    # Créer les dossiers \"train\" et \"test\" dans le nouveau dossier racine\n",
    "    os.makedirs(os.path.join(new_root_dir, \"train\"), exist_ok=True)\n",
    "    os.makedirs(os.path.join(new_root_dir, \"val\"), exist_ok=True)\n",
    "\n",
    "    # Parcourir les sous-dossiers dans le dossier racine\n",
    "    for subfolder in os.listdir(root_dir):\n",
    "        subfolder_path = os.path.join(root_dir, subfolder)\n",
    "        if os.path.isdir(subfolder_path):\n",
    "            # Créer les sous-dossiers \"train\" et \"test\" pour chaque classe\n",
    "            os.makedirs(os.path.join(new_root_dir, \"train\", subfolder), exist_ok=True)\n",
    "            os.makedirs(os.path.join(new_root_dir, \"val\", subfolder), exist_ok=True)\n",
    "\n",
    "            # Obtenir la liste des fichiers dans le sous-dossier\n",
    "            files = os.listdir(subfolder_path)\n",
    "            # Mélanger les fichiers\n",
    "            random.shuffle(files)\n",
    "\n",
    "            # Diviser les fichiers en 80% pour l'entraînement et 20% pour le test\n",
    "            train_files = files[:int(0.8 * len(files))]\n",
    "            test_files = files[int(0.8 * len(files)):]\n",
    "\n",
    "            # Copier les fichiers dans les nouveaux dossiers\n",
    "            for file in train_files:\n",
    "                shutil.copy(\n",
    "                    os.path.join(subfolder_path, file),\n",
    "                    os.path.join(new_root_dir, \"train\", subfolder, file)\n",
    "                )\n",
    "            for file in test_files:\n",
    "                shutil.copy(\n",
    "                    os.path.join(subfolder_path, file),\n",
    "                    os.path.join(new_root_dir, \"val\", subfolder, file)\n",
    "                )"
   ]
  },
  {
   "cell_type": "code",
   "execution_count": 35,
   "metadata": {
    "ExecuteTime": {
     "end_time": "2024-06-11T19:04:54.769338Z",
     "start_time": "2024-06-11T19:04:44.831185Z"
    }
   },
   "outputs": [],
   "source": [
    "split_dataset(\"./crowdai\", \"./crowdai_F\")"
   ]
  },
  {
   "cell_type": "code",
   "execution_count": 36,
   "metadata": {
    "ExecuteTime": {
     "end_time": "2024-06-11T19:04:54.774147Z",
     "start_time": "2024-06-11T19:04:54.770909Z"
    },
    "id": "v5eHthEdIBsr"
   },
   "outputs": [],
   "source": [
    "# Dimension of resized image\n",
    "DEFAULT_IMAGE_SIZE = tuple((224, 224))\n",
    "\n",
    "# Number of images used to train the model\n",
    "N_IMAGES = 100\n",
    "\n",
    "# Path to the dataset folder\n",
    "root_dir = './crowdai_F'\n",
    "\n",
    "train_dir = os.path.join(root_dir, 'train')\n",
    "val_dir = os.path.join(root_dir, 'val')"
   ]
  },
  {
   "cell_type": "code",
   "execution_count": 37,
   "metadata": {
    "ExecuteTime": {
     "end_time": "2024-06-11T19:04:55.089025Z",
     "start_time": "2024-06-11T19:04:54.775938Z"
    },
    "colab": {
     "base_uri": "https://localhost:8080/"
    },
    "id": "ljEtGO92TgX7",
    "outputId": "f66b366c-2ed1-4c21-b583-c7410b870552"
   },
   "outputs": [
    {
     "name": "stdout",
     "output_type": "stream",
     "text": [
      "Model: \"sequential_2\"\n",
      "_________________________________________________________________\n",
      " Layer (type)                Output Shape              Param #   \n",
      "=================================================================\n",
      " conv2d_10 (Conv2D)          (None, 55, 55, 96)        34944     \n",
      "                                                                 \n",
      " max_pooling2d_6 (MaxPooling  (None, 27, 27, 96)       0         \n",
      " 2D)                                                             \n",
      "                                                                 \n",
      " batch_normalization_16 (Bat  (None, 27, 27, 96)       384       \n",
      " chNormalization)                                                \n",
      "                                                                 \n",
      " conv2d_11 (Conv2D)          (None, 17, 17, 256)       2973952   \n",
      "                                                                 \n",
      " max_pooling2d_7 (MaxPooling  (None, 8, 8, 256)        0         \n",
      " 2D)                                                             \n",
      "                                                                 \n",
      " batch_normalization_17 (Bat  (None, 8, 8, 256)        1024      \n",
      " chNormalization)                                                \n",
      "                                                                 \n",
      " conv2d_12 (Conv2D)          (None, 6, 6, 384)         885120    \n",
      "                                                                 \n",
      " batch_normalization_18 (Bat  (None, 6, 6, 384)        1536      \n",
      " chNormalization)                                                \n",
      "                                                                 \n",
      " conv2d_13 (Conv2D)          (None, 4, 4, 384)         1327488   \n",
      "                                                                 \n",
      " batch_normalization_19 (Bat  (None, 4, 4, 384)        1536      \n",
      " chNormalization)                                                \n",
      "                                                                 \n",
      " conv2d_14 (Conv2D)          (None, 2, 2, 256)         884992    \n",
      "                                                                 \n",
      " max_pooling2d_8 (MaxPooling  (None, 1, 1, 256)        0         \n",
      " 2D)                                                             \n",
      "                                                                 \n",
      " batch_normalization_20 (Bat  (None, 1, 1, 256)        1024      \n",
      " chNormalization)                                                \n",
      "                                                                 \n",
      " flatten_2 (Flatten)         (None, 256)               0         \n",
      "                                                                 \n",
      " dense_8 (Dense)             (None, 4096)              1052672   \n",
      "                                                                 \n",
      " dropout_6 (Dropout)         (None, 4096)              0         \n",
      "                                                                 \n",
      " batch_normalization_21 (Bat  (None, 4096)             16384     \n",
      " chNormalization)                                                \n",
      "                                                                 \n",
      " dense_9 (Dense)             (None, 4096)              16781312  \n",
      "                                                                 \n",
      " dropout_7 (Dropout)         (None, 4096)              0         \n",
      "                                                                 \n",
      " batch_normalization_22 (Bat  (None, 4096)             16384     \n",
      " chNormalization)                                                \n",
      "                                                                 \n",
      " dense_10 (Dense)            (None, 1000)              4097000   \n",
      "                                                                 \n",
      " dropout_8 (Dropout)         (None, 1000)              0         \n",
      "                                                                 \n",
      " batch_normalization_23 (Bat  (None, 1000)             4000      \n",
      " chNormalization)                                                \n",
      "                                                                 \n",
      " dense_11 (Dense)            (None, 38)                38038     \n",
      "                                                                 \n",
      "=================================================================\n",
      "Total params: 28,117,790\n",
      "Trainable params: 28,096,654\n",
      "Non-trainable params: 21,136\n",
      "_________________________________________________________________\n"
     ]
    }
   ],
   "source": [
    "# Initializing the CNN\n",
    "classifier = Sequential()\n",
    "\n",
    "# Convolution Step 1\n",
    "classifier.add(Convolution2D(96, 11, strides = (4, 4), padding = 'valid', input_shape=(227, 227, 3), activation = 'relu'))\n",
    "\n",
    "# Max Pooling Step 1\n",
    "classifier.add(MaxPooling2D(pool_size = (2, 2), strides = (2, 2), padding = 'valid'))\n",
    "classifier.add(BatchNormalization())\n",
    "\n",
    "# Convolution Step 2\n",
    "classifier.add(Convolution2D(256, 11, strides = (1, 1), padding='valid', activation = 'relu'))\n",
    "\n",
    "# Max Pooling Step 2\n",
    "classifier.add(MaxPooling2D(pool_size = (2, 2), strides = (2, 2), padding='valid'))\n",
    "classifier.add(BatchNormalization())\n",
    "\n",
    "# Convolution Step 3\n",
    "classifier.add(Convolution2D(384, 3, strides = (1, 1), padding='valid', activation = 'relu'))\n",
    "classifier.add(BatchNormalization())\n",
    "\n",
    "# Convolution Step 4\n",
    "classifier.add(Convolution2D(384, 3, strides = (1, 1), padding='valid', activation = 'relu'))\n",
    "classifier.add(BatchNormalization())\n",
    "\n",
    "# Convolution Step 5\n",
    "classifier.add(Convolution2D(256, 3, strides=(1,1), padding='valid', activation = 'relu'))\n",
    "\n",
    "# Max Pooling Step 3\n",
    "classifier.add(MaxPooling2D(pool_size = (2, 2), strides = (2, 2), padding = 'valid'))\n",
    "classifier.add(BatchNormalization())\n",
    "\n",
    "# Flattening Step\n",
    "classifier.add(Flatten())\n",
    "\n",
    "# Full Connection Step\n",
    "classifier.add(Dense(units = 4096, activation = 'relu'))\n",
    "classifier.add(Dropout(0.4))\n",
    "classifier.add(BatchNormalization())\n",
    "classifier.add(Dense(units = 4096, activation = 'relu'))\n",
    "classifier.add(Dropout(0.4))\n",
    "classifier.add(BatchNormalization())\n",
    "classifier.add(Dense(units = 1000, activation = 'relu'))\n",
    "classifier.add(Dropout(0.2))\n",
    "classifier.add(BatchNormalization())\n",
    "classifier.add(Dense(units = 38, activation = 'softmax'))\n",
    "classifier.summary()"
   ]
  },
  {
   "cell_type": "code",
   "execution_count": 38,
   "metadata": {
    "id": "egAiZdS2DCuA"
   },
   "outputs": [],
   "source": [
    "from keras import backend as K\n",
    "\n",
    "def recall_m(y_true, y_pred):\n",
    "    true_positives = K.sum(K.round(K.clip(y_true * y_pred, 0, 1)))\n",
    "    possible_positives = K.sum(K.round(K.clip(y_true, 0, 1)))\n",
    "    recall = true_positives / (possible_positives + K.epsilon())\n",
    "    return recall\n",
    "\n",
    "def precision_m(y_true, y_pred):\n",
    "    true_positives = K.sum(K.round(K.clip(y_true * y_pred, 0, 1)))\n",
    "    predicted_positives = K.sum(K.round(K.clip(y_pred, 0, 1)))\n",
    "    precision = true_positives / (predicted_positives + K.epsilon())\n",
    "    return precision\n",
    "\n",
    "def f1_m(y_true, y_pred):\n",
    "    precision = precision_m(y_true, y_pred)\n",
    "    recall = recall_m(y_true, y_pred)\n",
    "    return 2*((precision*recall)/(precision+recall+K.epsilon()))"
   ]
  },
  {
   "cell_type": "code",
   "execution_count": 39,
   "metadata": {
    "id": "fzQsQs6fTUGU"
   },
   "outputs": [],
   "source": [
    "# Compiling the CNN\n",
    "# classifier.compile(optimizer='adam',\n",
    "#                    loss='categorical_crossentropy',\n",
    "#                    metrics=['accuracy'])\n",
    "\n",
    "\n",
    "# Compiling the CNN\n",
    "\n",
    "classifier.compile(optimizer=tf.keras.optimizers.Adam(\n",
    "    learning_rate=0.001,\n",
    "    beta_1=0.9,\n",
    "    beta_2=0.999,\n",
    "    epsilon=1e-07,\n",
    "    amsgrad=False,\n",
    "    name=\"Adam\",\n",
    "),\n",
    "                   loss='categorical_crossentropy',\n",
    "                   metrics=['accuracy' , f1_m, precision_m, recall_m])\n",
    "\n",
    "#classifier.compile(optimizer=optimizers.SGD(lr=0.001, momentum=0.9, decay=0.005),\n",
    "#                   loss='categorical_crossentropy',\n",
    "#                   metrics=['accuracy'])\n",
    "\n",
    "\n"
   ]
  },
  {
   "cell_type": "code",
   "execution_count": 40,
   "metadata": {
    "ExecuteTime": {
     "end_time": "2024-06-11T19:04:56.305083Z",
     "start_time": "2024-06-11T19:04:55.117194Z"
    },
    "colab": {
     "base_uri": "https://localhost:8080/"
    },
    "id": "4VniEgrpT-Zb",
    "outputId": "fd1f29ed-b2f4-4742-8aab-c6f5314499f4"
   },
   "outputs": [
    {
     "name": "stdout",
     "output_type": "stream",
     "text": [
      "Found 17521 images belonging to 38 classes.\n",
      "Found 4396 images belonging to 38 classes.\n"
     ]
    }
   ],
   "source": [
    "\n",
    "# image preprocessing\n",
    "train_datagen = ImageDataGenerator(rescale=1./255,\n",
    "                                   shear_range=0.2,\n",
    "                                   zoom_range=0.2,\n",
    "                                   width_shift_range=0.2,\n",
    "                                   height_shift_range=0.2,\n",
    "                                  rotation_range=40,\n",
    "                                   horizontal_flip=True,\n",
    "                                  fill_mode='nearest')\n",
    "\n",
    "test_datagen = ImageDataGenerator(rescale=1./255)\n",
    "\n",
    "batch_size = 32\n",
    "\n",
    "#train_data_dir = train_dir   # directory of training data\n",
    "\n",
    "#test_data_dir = val_dir      # directory of test data\n",
    "\n",
    "training_set = train_datagen.flow_from_directory(train_dir ,\n",
    "                                                 target_size=(224, 224),\n",
    "                                                 batch_size=batch_size,\n",
    "                                               class_mode='categorical')\n",
    "\n",
    "test_set = test_datagen.flow_from_directory(val_dir,\n",
    "                                           target_size=(224, 224),\n",
    "                                           batch_size=batch_size,\n",
    "                                           class_mode='categorical')\n",
    "\n",
    "\n",
    "\n"
   ]
  },
  {
   "cell_type": "code",
   "execution_count": 41,
   "metadata": {
    "ExecuteTime": {
     "end_time": "2024-06-11T19:04:57.581853Z",
     "start_time": "2024-06-11T19:04:56.306375Z"
    },
    "colab": {
     "base_uri": "https://localhost:8080/"
    },
    "id": "Hn8LJtYpBRLm",
    "outputId": "b74b1359-6336-41aa-b7f1-af789914f416"
   },
   "outputs": [
    {
     "name": "stdout",
     "output_type": "stream",
     "text": [
      "Found 14032 images belonging to 38 classes.\n",
      "Found 3489 images belonging to 38 classes.\n",
      "Found 4396 images belonging to 38 classes.\n"
     ]
    }
   ],
   "source": [
    "IM_WIDTH=224\n",
    "IM_HEIGHT=224\n",
    "EPOCH=200\n",
    "batch_size=32\n",
    "NB_CLASS=38\n",
    "datagen = ImageDataGenerator(\n",
    "    rotation_range=30,\n",
    "    width_shift_range=0.2,\n",
    "    height_shift_range=0.2,\n",
    "    shear_range=0.2,\n",
    "    zoom_range=0.2,\n",
    "    horizontal_flip=True,\n",
    "    validation_split=0.2,\n",
    "    rescale=1./255\n",
    ")\n",
    "training_set = datagen.flow_from_directory(\n",
    "  train_dir,\n",
    "  target_size=(IM_WIDTH, IM_HEIGHT),\n",
    "  batch_size=batch_size,\n",
    "  class_mode='categorical', subset='training'\n",
    ")\n",
    "#vaild data\n",
    "test_set = datagen.flow_from_directory(\n",
    "  train_dir,\n",
    "  target_size=(IM_WIDTH, IM_HEIGHT),\n",
    "  batch_size=batch_size,\n",
    "  class_mode='categorical', subset='validation'\n",
    ")\n",
    "#test data\n",
    "test_datagen = ImageDataGenerator(\n",
    "    rotation_range=30,\n",
    "    width_shift_range=0.2,\n",
    "    height_shift_range=0.2,\n",
    "    shear_range=0.2,\n",
    "    zoom_range=0.2,\n",
    "    horizontal_flip=True,\n",
    "    featurewise_center=True\n",
    ")\n",
    "test_generator = datagen.flow_from_directory(\n",
    "  val_dir,\n",
    "  target_size=(IM_WIDTH, IM_HEIGHT),\n",
    "  batch_size=batch_size,\n",
    ")"
   ]
  },
  {
   "cell_type": "code",
   "execution_count": 42,
   "metadata": {
    "ExecuteTime": {
     "end_time": "2024-06-11T19:04:57.587614Z",
     "start_time": "2024-06-11T19:04:57.583519Z"
    },
    "id": "s81tULgQMm4g"
   },
   "outputs": [],
   "source": [
    "LEARNING_RATE=0.01\n",
    "MOMENTUM=0.9\n",
    "ALPHA=0.0001\n",
    "BETA=0.75\n",
    "GAMMA=0.1\n",
    "DROPOUT=0.4\n",
    "WEIGHT_DECAY=0.0005\n",
    "LRN2D_NORM=True\n",
    "DATA_FORMAT='channels_last' # Theano:'channels_first' Tensorflow:'channels_last'\n",
    "USE_BN=True\n",
    "\n",
    "IM_WIDTH=224\n",
    "IM_HEIGHT=224\n",
    "EPOCH=200\n",
    "batch_size=32\n",
    "NB_CLASS=38"
   ]
  },
  {
   "cell_type": "code",
   "execution_count": 43,
   "metadata": {
    "ExecuteTime": {
     "end_time": "2024-06-11T19:04:57.593925Z",
     "start_time": "2024-06-11T19:04:57.590191Z"
    },
    "colab": {
     "base_uri": "https://localhost:8080/"
    },
    "id": "WXy138awRw9i",
    "outputId": "5690ec32-211d-4710-c659-fd8a57f42805"
   },
   "outputs": [
    {
     "name": "stdout",
     "output_type": "stream",
     "text": [
      "{'c_0': 0, 'c_1': 1, 'c_10': 2, 'c_11': 3, 'c_12': 4, 'c_13': 5, 'c_14': 6, 'c_15': 7, 'c_16': 8, 'c_17': 9, 'c_18': 10, 'c_19': 11, 'c_2': 12, 'c_20': 13, 'c_21': 14, 'c_22': 15, 'c_23': 16, 'c_24': 17, 'c_25': 18, 'c_26': 19, 'c_27': 20, 'c_28': 21, 'c_29': 22, 'c_3': 23, 'c_30': 24, 'c_31': 25, 'c_32': 26, 'c_33': 27, 'c_34': 28, 'c_35': 29, 'c_36': 30, 'c_37': 31, 'c_4': 32, 'c_5': 33, 'c_6': 34, 'c_7': 35, 'c_8': 36, 'c_9': 37}\n"
     ]
    }
   ],
   "source": [
    "print(training_set.class_indices)"
   ]
  },
  {
   "cell_type": "code",
   "execution_count": 44,
   "metadata": {
    "ExecuteTime": {
     "end_time": "2024-06-12T01:09:37.198472Z",
     "start_time": "2024-06-11T19:04:57.598348Z"
    },
    "id": "x4xHlkhzUGwy",
    "scrolled": true
   },
   "outputs": [
    {
     "name": "stderr",
     "output_type": "stream",
     "text": [
      "/var/folders/1w/cp3gd6d5749_6bq40_6_35vh0000gn/T/ipykernel_89587/426733126.py:17: UserWarning: `Model.fit_generator` is deprecated and will be removed in a future version. Please use `Model.fit`, which supports generators.\n",
      "  history = classifier.fit_generator(training_set,\n"
     ]
    },
    {
     "name": "stdout",
     "output_type": "stream",
     "text": [
      "Epoch 1/50\n",
      "438/438 [==============================] - 394s 896ms/step - loss: 2.8349 - accuracy: 0.2783 - f1_m: 0.2331 - precision_m: 0.4920 - recall_m: 0.1545 - val_loss: 13.9669 - val_accuracy: 0.1279 - val_f1_m: 0.1289 - val_precision_m: 0.1303 - val_recall_m: 0.1276\n",
      "Epoch 2/50\n",
      "438/438 [==============================] - 396s 905ms/step - loss: 2.1175 - accuracy: 0.4092 - f1_m: 0.3748 - precision_m: 0.6469 - recall_m: 0.2665 - val_loss: 10.2445 - val_accuracy: 0.1909 - val_f1_m: 0.1924 - val_precision_m: 0.1945 - val_recall_m: 0.1904\n",
      "Epoch 3/50\n",
      "438/438 [==============================] - 436s 996ms/step - loss: 1.7389 - accuracy: 0.4996 - f1_m: 0.4725 - precision_m: 0.7046 - recall_m: 0.3582 - val_loss: 5.0939 - val_accuracy: 0.2646 - val_f1_m: 0.2733 - val_precision_m: 0.3289 - val_recall_m: 0.2348\n",
      "Epoch 4/50\n",
      "438/438 [==============================] - 449s 1s/step - loss: 1.5022 - accuracy: 0.5595 - f1_m: 0.5379 - precision_m: 0.7380 - recall_m: 0.4258 - val_loss: 2.8338 - val_accuracy: 0.3759 - val_f1_m: 0.3712 - val_precision_m: 0.4901 - val_recall_m: 0.3010\n",
      "Epoch 5/50\n",
      "438/438 [==============================] - 445s 1s/step - loss: 1.3813 - accuracy: 0.5901 - f1_m: 0.5739 - precision_m: 0.7461 - recall_m: 0.4688 - val_loss: 1.3601 - val_accuracy: 0.6006 - val_f1_m: 0.5998 - val_precision_m: 0.7098 - val_recall_m: 0.5215\n",
      "Epoch 6/50\n",
      "438/438 [==============================] - 452s 1s/step - loss: 1.2382 - accuracy: 0.6261 - f1_m: 0.6173 - precision_m: 0.7692 - recall_m: 0.5183 - val_loss: 10.1784 - val_accuracy: 0.1932 - val_f1_m: 0.1953 - val_precision_m: 0.2099 - val_recall_m: 0.1829\n",
      "Epoch 7/50\n",
      "438/438 [==============================] - 447s 1s/step - loss: 1.1537 - accuracy: 0.6557 - f1_m: 0.6432 - precision_m: 0.7812 - recall_m: 0.5489 - val_loss: 1.3463 - val_accuracy: 0.6049 - val_f1_m: 0.6111 - val_precision_m: 0.7167 - val_recall_m: 0.5353\n",
      "Epoch 8/50\n",
      "438/438 [==============================] - 432s 987ms/step - loss: 1.0604 - accuracy: 0.6774 - f1_m: 0.6669 - precision_m: 0.7906 - recall_m: 0.5788 - val_loss: 2.3750 - val_accuracy: 0.4576 - val_f1_m: 0.4715 - val_precision_m: 0.5735 - val_recall_m: 0.4022\n",
      "Epoch 9/50\n",
      "438/438 [==============================] - 427s 974ms/step - loss: 1.0220 - accuracy: 0.6896 - f1_m: 0.6857 - precision_m: 0.7990 - recall_m: 0.6027 - val_loss: 1.1064 - val_accuracy: 0.6743 - val_f1_m: 0.6726 - val_precision_m: 0.7517 - val_recall_m: 0.6110\n",
      "Epoch 10/50\n",
      "438/438 [==============================] - 448s 1s/step - loss: 0.9249 - accuracy: 0.7126 - f1_m: 0.7122 - precision_m: 0.8111 - recall_m: 0.6368 - val_loss: 3.7966 - val_accuracy: 0.3452 - val_f1_m: 0.3466 - val_precision_m: 0.3815 - val_recall_m: 0.3185\n",
      "Epoch 11/50\n",
      "438/438 [==============================] - 410s 936ms/step - loss: 0.8681 - accuracy: 0.7315 - f1_m: 0.7291 - precision_m: 0.8190 - recall_m: 0.6590 - val_loss: 1.0281 - val_accuracy: 0.6915 - val_f1_m: 0.6916 - val_precision_m: 0.7697 - val_recall_m: 0.6299\n",
      "Epoch 12/50\n",
      "438/438 [==============================] - 412s 941ms/step - loss: 0.8131 - accuracy: 0.7486 - f1_m: 0.7463 - precision_m: 0.8285 - recall_m: 0.6808 - val_loss: 1.5332 - val_accuracy: 0.5777 - val_f1_m: 0.5895 - val_precision_m: 0.6828 - val_recall_m: 0.5206\n",
      "Epoch 13/50\n",
      "438/438 [==============================] - 413s 943ms/step - loss: 0.7601 - accuracy: 0.7626 - f1_m: 0.7640 - precision_m: 0.8354 - recall_m: 0.7055 - val_loss: 1.6432 - val_accuracy: 0.5806 - val_f1_m: 0.5756 - val_precision_m: 0.6448 - val_recall_m: 0.5215\n",
      "Epoch 14/50\n",
      "438/438 [==============================] - 431s 984ms/step - loss: 0.7183 - accuracy: 0.7760 - f1_m: 0.7758 - precision_m: 0.8447 - recall_m: 0.7188 - val_loss: 0.8581 - val_accuracy: 0.7388 - val_f1_m: 0.7453 - val_precision_m: 0.8078 - val_recall_m: 0.6935\n",
      "Epoch 15/50\n",
      "438/438 [==============================] - 431s 984ms/step - loss: 0.6974 - accuracy: 0.7799 - f1_m: 0.7810 - precision_m: 0.8439 - recall_m: 0.7283 - val_loss: 1.5786 - val_accuracy: 0.5840 - val_f1_m: 0.6020 - val_precision_m: 0.6851 - val_recall_m: 0.5393\n",
      "Epoch 16/50\n",
      "438/438 [==============================] - 444s 1s/step - loss: 0.6691 - accuracy: 0.7941 - f1_m: 0.7923 - precision_m: 0.8532 - recall_m: 0.7413 - val_loss: 1.1833 - val_accuracy: 0.6852 - val_f1_m: 0.6916 - val_precision_m: 0.7489 - val_recall_m: 0.6439\n",
      "Epoch 17/50\n",
      "438/438 [==============================] - 448s 1s/step - loss: 0.6195 - accuracy: 0.8043 - f1_m: 0.8042 - precision_m: 0.8583 - recall_m: 0.7579 - val_loss: 0.6798 - val_accuracy: 0.7878 - val_f1_m: 0.7924 - val_precision_m: 0.8458 - val_recall_m: 0.7463\n",
      "Epoch 18/50\n",
      "438/438 [==============================] - 438s 1000ms/step - loss: 0.5833 - accuracy: 0.8152 - f1_m: 0.8160 - precision_m: 0.8645 - recall_m: 0.7739 - val_loss: 0.5206 - val_accuracy: 0.8311 - val_f1_m: 0.8336 - val_precision_m: 0.8804 - val_recall_m: 0.7927\n",
      "Epoch 19/50\n",
      "438/438 [==============================] - 439s 1s/step - loss: 0.5767 - accuracy: 0.8204 - f1_m: 0.8190 - precision_m: 0.8683 - recall_m: 0.7763 - val_loss: 1.0457 - val_accuracy: 0.7196 - val_f1_m: 0.7236 - val_precision_m: 0.7836 - val_recall_m: 0.6740\n",
      "Epoch 20/50\n",
      "438/438 [==============================] - 447s 1s/step - loss: 0.5416 - accuracy: 0.8296 - f1_m: 0.8298 - precision_m: 0.8757 - recall_m: 0.7898 - val_loss: 1.1549 - val_accuracy: 0.6944 - val_f1_m: 0.7016 - val_precision_m: 0.7473 - val_recall_m: 0.6620\n",
      "Epoch 21/50\n",
      "438/438 [==============================] - 459s 1s/step - loss: 0.5109 - accuracy: 0.8359 - f1_m: 0.8374 - precision_m: 0.8790 - recall_m: 0.8009 - val_loss: 0.8223 - val_accuracy: 0.7523 - val_f1_m: 0.7594 - val_precision_m: 0.8039 - val_recall_m: 0.7208\n",
      "Epoch 22/50\n",
      "438/438 [==============================] - 465s 1s/step - loss: 0.5076 - accuracy: 0.8408 - f1_m: 0.8410 - precision_m: 0.8826 - recall_m: 0.8043 - val_loss: 1.0030 - val_accuracy: 0.7225 - val_f1_m: 0.7286 - val_precision_m: 0.8039 - val_recall_m: 0.6683\n",
      "Epoch 23/50\n",
      "438/438 [==============================] - 449s 1s/step - loss: 0.4943 - accuracy: 0.8443 - f1_m: 0.8447 - precision_m: 0.8836 - recall_m: 0.8100 - val_loss: 0.8384 - val_accuracy: 0.7543 - val_f1_m: 0.7611 - val_precision_m: 0.8199 - val_recall_m: 0.7116\n",
      "Epoch 24/50\n",
      "438/438 [==============================] - 445s 1s/step - loss: 0.4874 - accuracy: 0.8441 - f1_m: 0.8457 - precision_m: 0.8826 - recall_m: 0.8126 - val_loss: 0.7666 - val_accuracy: 0.7575 - val_f1_m: 0.7627 - val_precision_m: 0.8011 - val_recall_m: 0.7288\n",
      "Epoch 25/50\n",
      "438/438 [==============================] - 444s 1s/step - loss: 0.4531 - accuracy: 0.8546 - f1_m: 0.8553 - precision_m: 0.8902 - recall_m: 0.8239 - val_loss: 0.5167 - val_accuracy: 0.8438 - val_f1_m: 0.8473 - val_precision_m: 0.8753 - val_recall_m: 0.8220\n",
      "Epoch 26/50\n",
      "438/438 [==============================] - 441s 1s/step - loss: 0.4291 - accuracy: 0.8636 - f1_m: 0.8645 - precision_m: 0.8967 - recall_m: 0.8355 - val_loss: 2.7075 - val_accuracy: 0.4719 - val_f1_m: 0.4809 - val_precision_m: 0.5236 - val_recall_m: 0.4455\n",
      "Epoch 27/50\n",
      "438/438 [==============================] - 442s 1s/step - loss: 0.4185 - accuracy: 0.8637 - f1_m: 0.8641 - precision_m: 0.8943 - recall_m: 0.8368 - val_loss: 1.1498 - val_accuracy: 0.7348 - val_f1_m: 0.7380 - val_precision_m: 0.7703 - val_recall_m: 0.7090\n",
      "Epoch 28/50\n",
      "438/438 [==============================] - 444s 1s/step - loss: 0.4185 - accuracy: 0.8649 - f1_m: 0.8677 - precision_m: 0.8968 - recall_m: 0.8413 - val_loss: 0.4693 - val_accuracy: 0.8509 - val_f1_m: 0.8528 - val_precision_m: 0.8879 - val_recall_m: 0.8214\n",
      "Epoch 29/50\n",
      "438/438 [==============================] - 433s 989ms/step - loss: 0.4097 - accuracy: 0.8684 - f1_m: 0.8702 - precision_m: 0.9003 - recall_m: 0.8430 - val_loss: 1.1900 - val_accuracy: 0.7124 - val_f1_m: 0.7188 - val_precision_m: 0.7534 - val_recall_m: 0.6881\n",
      "Epoch 30/50\n",
      "438/438 [==============================] - 436s 995ms/step - loss: 0.3840 - accuracy: 0.8769 - f1_m: 0.8779 - precision_m: 0.9057 - recall_m: 0.8526 - val_loss: 0.6400 - val_accuracy: 0.8182 - val_f1_m: 0.8244 - val_precision_m: 0.8614 - val_recall_m: 0.7913\n",
      "Epoch 31/50\n",
      "438/438 [==============================] - 436s 996ms/step - loss: 0.3780 - accuracy: 0.8771 - f1_m: 0.8771 - precision_m: 0.9028 - recall_m: 0.8536 - val_loss: 0.9239 - val_accuracy: 0.7701 - val_f1_m: 0.7748 - val_precision_m: 0.8110 - val_recall_m: 0.7425\n",
      "Epoch 32/50\n",
      "438/438 [==============================] - 434s 990ms/step - loss: 0.3629 - accuracy: 0.8812 - f1_m: 0.8843 - precision_m: 0.9080 - recall_m: 0.8624 - val_loss: 0.7696 - val_accuracy: 0.8151 - val_f1_m: 0.8167 - val_precision_m: 0.8449 - val_recall_m: 0.7910\n",
      "Epoch 33/50\n",
      "438/438 [==============================] - 441s 1s/step - loss: 0.3521 - accuracy: 0.8859 - f1_m: 0.8859 - precision_m: 0.9092 - recall_m: 0.8646 - val_loss: 0.8885 - val_accuracy: 0.7552 - val_f1_m: 0.7608 - val_precision_m: 0.8022 - val_recall_m: 0.7245\n",
      "Epoch 34/50\n",
      "438/438 [==============================] - 448s 1s/step - loss: 0.3488 - accuracy: 0.8854 - f1_m: 0.8892 - precision_m: 0.9129 - recall_m: 0.8672 - val_loss: 0.7565 - val_accuracy: 0.7769 - val_f1_m: 0.7790 - val_precision_m: 0.8199 - val_recall_m: 0.7434\n",
      "Epoch 35/50\n",
      "438/438 [==============================] - 439s 1s/step - loss: 0.3537 - accuracy: 0.8860 - f1_m: 0.8871 - precision_m: 0.9097 - recall_m: 0.8663 - val_loss: 0.6381 - val_accuracy: 0.8277 - val_f1_m: 0.8320 - val_precision_m: 0.8593 - val_recall_m: 0.8071\n",
      "Epoch 36/50\n",
      "438/438 [==============================] - 441s 1s/step - loss: 0.3248 - accuracy: 0.8967 - f1_m: 0.8988 - precision_m: 0.9214 - recall_m: 0.8778 - val_loss: 0.5917 - val_accuracy: 0.8294 - val_f1_m: 0.8342 - val_precision_m: 0.8602 - val_recall_m: 0.8105\n",
      "Epoch 37/50\n",
      "438/438 [==============================] - 443s 1s/step - loss: 0.3280 - accuracy: 0.8933 - f1_m: 0.8932 - precision_m: 0.9150 - recall_m: 0.8731 - val_loss: 1.1435 - val_accuracy: 0.7225 - val_f1_m: 0.7316 - val_precision_m: 0.7691 - val_recall_m: 0.6987\n",
      "Epoch 38/50\n",
      "438/438 [==============================] - 439s 1s/step - loss: 0.3250 - accuracy: 0.8963 - f1_m: 0.8964 - precision_m: 0.9187 - recall_m: 0.8757 - val_loss: 0.7840 - val_accuracy: 0.7732 - val_f1_m: 0.7781 - val_precision_m: 0.8158 - val_recall_m: 0.7448\n",
      "Epoch 39/50\n",
      "438/438 [==============================] - 442s 1s/step - loss: 0.3113 - accuracy: 0.9015 - f1_m: 0.9002 - precision_m: 0.9208 - recall_m: 0.8811 - val_loss: 0.5688 - val_accuracy: 0.8286 - val_f1_m: 0.8306 - val_precision_m: 0.8651 - val_recall_m: 0.7996\n",
      "Epoch 40/50\n",
      "438/438 [==============================] - 442s 1s/step - loss: 0.3014 - accuracy: 0.9039 - f1_m: 0.9052 - precision_m: 0.9234 - recall_m: 0.8882 - val_loss: 0.2963 - val_accuracy: 0.9054 - val_f1_m: 0.9068 - val_precision_m: 0.9209 - val_recall_m: 0.8936\n",
      "Epoch 41/50\n",
      "438/438 [==============================] - 455s 1s/step - loss: 0.2988 - accuracy: 0.9051 - f1_m: 0.9040 - precision_m: 0.9227 - recall_m: 0.8867 - val_loss: 0.3941 - val_accuracy: 0.8744 - val_f1_m: 0.8761 - val_precision_m: 0.8949 - val_recall_m: 0.8587\n",
      "Epoch 42/50\n",
      "438/438 [==============================] - 443s 1s/step - loss: 0.2883 - accuracy: 0.9061 - f1_m: 0.9072 - precision_m: 0.9250 - recall_m: 0.8906 - val_loss: 0.5807 - val_accuracy: 0.8366 - val_f1_m: 0.8373 - val_precision_m: 0.8652 - val_recall_m: 0.8122\n",
      "Epoch 43/50\n",
      "438/438 [==============================] - 434s 990ms/step - loss: 0.2846 - accuracy: 0.9071 - f1_m: 0.9087 - precision_m: 0.9262 - recall_m: 0.8923 - val_loss: 0.6095 - val_accuracy: 0.8271 - val_f1_m: 0.8345 - val_precision_m: 0.8600 - val_recall_m: 0.8111\n",
      "Epoch 44/50\n",
      "438/438 [==============================] - 440s 1s/step - loss: 0.2681 - accuracy: 0.9138 - f1_m: 0.9147 - precision_m: 0.9314 - recall_m: 0.8992 - val_loss: 0.6059 - val_accuracy: 0.8351 - val_f1_m: 0.8415 - val_precision_m: 0.8671 - val_recall_m: 0.8179\n",
      "Epoch 45/50\n",
      "438/438 [==============================] - 437s 996ms/step - loss: 0.2750 - accuracy: 0.9126 - f1_m: 0.9123 - precision_m: 0.9286 - recall_m: 0.8970 - val_loss: 0.4990 - val_accuracy: 0.8584 - val_f1_m: 0.8579 - val_precision_m: 0.8803 - val_recall_m: 0.8374\n",
      "Epoch 46/50\n",
      "438/438 [==============================] - 427s 974ms/step - loss: 0.2840 - accuracy: 0.9079 - f1_m: 0.9092 - precision_m: 0.9254 - recall_m: 0.8940 - val_loss: 0.8587 - val_accuracy: 0.7990 - val_f1_m: 0.8013 - val_precision_m: 0.8244 - val_recall_m: 0.7801\n",
      "Epoch 47/50\n",
      "438/438 [==============================] - 428s 978ms/step - loss: 0.2544 - accuracy: 0.9166 - f1_m: 0.9177 - precision_m: 0.9330 - recall_m: 0.9035 - val_loss: 0.4367 - val_accuracy: 0.8704 - val_f1_m: 0.8707 - val_precision_m: 0.8907 - val_recall_m: 0.8521\n",
      "Epoch 48/50\n",
      "438/438 [==============================] - 436s 995ms/step - loss: 0.2657 - accuracy: 0.9169 - f1_m: 0.9186 - precision_m: 0.9348 - recall_m: 0.9035 - val_loss: 0.5203 - val_accuracy: 0.8512 - val_f1_m: 0.8543 - val_precision_m: 0.8750 - val_recall_m: 0.8351\n",
      "Epoch 49/50\n",
      "438/438 [==============================] - 433s 987ms/step - loss: 0.2608 - accuracy: 0.9189 - f1_m: 0.9190 - precision_m: 0.9339 - recall_m: 0.9050 - val_loss: 0.4128 - val_accuracy: 0.8739 - val_f1_m: 0.8776 - val_precision_m: 0.8978 - val_recall_m: 0.8589\n",
      "Epoch 50/50\n",
      "438/438 [==============================] - 441s 1s/step - loss: 0.2448 - accuracy: 0.9188 - f1_m: 0.9203 - precision_m: 0.9349 - recall_m: 0.9067 - val_loss: 0.9339 - val_accuracy: 0.7755 - val_f1_m: 0.7818 - val_precision_m: 0.8014 - val_recall_m: 0.7638\n"
     ]
    }
   ],
   "source": [
    "# # checkpoint\n",
    "# weightpath = \"weights_1.hdf5\"\n",
    "# checkpoint = ModelCheckpoint(weightpath, monitor='val_acc', verbose=1, save_best_only=True, mode='max')\n",
    "# callbacks_list = [checkpoint]\n",
    "#\n",
    "#\n",
    "# #fitting images to CNN\n",
    "# history = classifier.fit_generator(training_set,\n",
    "#                          steps_per_epoch=training_set.samples//batch_size,\n",
    "#                          validation_data=test_set,\n",
    "#                          epochs=50,\n",
    "#                          validation_steps=test_set.samples//batch_size,\n",
    "#                          callbacks=callbacks_list)\n",
    "\n",
    "\n",
    "#fitting images to CNN\n",
    "history = classifier.fit(training_set,\n",
    "                                   steps_per_epoch=training_set.samples//batch_size,\n",
    "                                   validation_data=test_set,\n",
    "                                   epochs=50,\n",
    "                                   validation_steps=test_set.samples//batch_size)\n",
    "\n"
   ]
  },
  {
   "cell_type": "code",
   "execution_count": 45,
   "metadata": {
    "ExecuteTime": {
     "end_time": "2024-06-12T01:09:37.626708Z",
     "start_time": "2024-06-12T01:09:37.199948Z"
    },
    "id": "judM07B2UpKC"
   },
   "outputs": [],
   "source": [
    "#saving model\n",
    "filepath=\"model.h5\"\n",
    "classifier.save(filepath)"
   ]
  },
  {
   "cell_type": "code",
   "execution_count": 48,
   "metadata": {
    "ExecuteTime": {
     "end_time": "2024-06-12T01:29:14.917957Z",
     "start_time": "2024-06-12T01:28:08.317970Z"
    },
    "id": "8PZzseCNUxMP"
   },
   "outputs": [
    {
     "name": "stdout",
     "output_type": "stream",
     "text": [
      "138/138 [==============================] - 66s 478ms/step - loss: 1.0052 - accuracy: 0.7589 - f1_m: 0.7650 - precision_m: 0.7871 - recall_m: 0.7447\n"
     ]
    }
   ],
   "source": [
    "\n",
    "#loss,acc=classifier.evaluate_generator(test_generator,steps=test_set.n/batch_size)\n",
    "loss,acc , f1_m, precision_m, recall_m = classifier.evaluate(test_generator)\n"
   ]
  },
  {
   "cell_type": "code",
   "execution_count": 49,
   "metadata": {
    "ExecuteTime": {
     "end_time": "2024-06-12T01:29:27.214554Z",
     "start_time": "2024-06-12T01:29:27.195529Z"
    },
    "id": "CKA_zi6RUyr-"
   },
   "outputs": [
    {
     "ename": "TypeError",
     "evalue": "not all arguments converted during string formatting",
     "output_type": "error",
     "traceback": [
      "\u001b[0;31m---------------------------------------------------------------------------\u001b[0m",
      "\u001b[0;31mTypeError\u001b[0m                                 Traceback (most recent call last)",
      "Cell \u001b[0;32mIn[49], line 1\u001b[0m\n\u001b[0;32m----> 1\u001b[0m \u001b[38;5;28mprint\u001b[39m(\u001b[38;5;124;43m'\u001b[39;49m\u001b[38;5;124;43mTest result:loss:\u001b[39;49m\u001b[38;5;132;43;01m%f\u001b[39;49;00m\u001b[38;5;124;43m,acc:\u001b[39;49m\u001b[38;5;132;43;01m%f\u001b[39;49;00m\u001b[38;5;124;43m'\u001b[39;49m\u001b[38;5;241;43m%\u001b[39;49m\u001b[43m(\u001b[49m\u001b[43mloss\u001b[49m\u001b[43m,\u001b[49m\u001b[43macc\u001b[49m\u001b[43m \u001b[49m\u001b[43m,\u001b[49m\u001b[43m \u001b[49m\u001b[43mf1_m\u001b[49m\u001b[43m,\u001b[49m\u001b[43m \u001b[49m\u001b[43mprecision_m\u001b[49m\u001b[43m,\u001b[49m\u001b[43m \u001b[49m\u001b[43mrecall_m\u001b[49m\u001b[43m)\u001b[49m)\n",
      "\u001b[0;31mTypeError\u001b[0m: not all arguments converted during string formatting"
     ]
    }
   ],
   "source": [
    "print('Test result:loss:%f,acc:%f'%(loss,acc , f1_m, precision_m, recall_m))"
   ]
  },
  {
   "cell_type": "markdown",
   "metadata": {
    "id": "75wjEVZ-9Yab"
   },
   "source": [
    "Comparing the accuracy and loss by plotting the graph for training and validation."
   ]
  },
  {
   "cell_type": "code",
   "execution_count": 50,
   "metadata": {
    "ExecuteTime": {
     "end_time": "2024-06-12T01:29:51.233392Z",
     "start_time": "2024-06-12T01:29:50.851202Z"
    },
    "id": "68DC4UqXTH4r"
   },
   "outputs": [
    {
     "data": {
      "image/png": "[encoded data removed]",
      "text/plain": [
       "<Figure size 640x480 with 1 Axes>"
      ]
     },
     "metadata": {},
     "output_type": "display_data"
    },
    {
     "data": {
      "image/png": "[encoded data removed]",
      "text/plain": [
       "<Figure size 640x480 with 1 Axes>"
      ]
     },
     "metadata": {},
     "output_type": "display_data"
    }
   ],
   "source": [
    "acc = history.history['accuracy']\n",
    "val_acc = history.history['val_accuracy']\n",
    "loss = history.history['loss']\n",
    "val_loss = history.history['val_loss']\n",
    "epochs = range(1, len(acc) + 1)\n",
    "\n",
    "# Train and validation accuracy\n",
    "plt.plot(epochs, acc, 'b', label='Training accurarcy')\n",
    "plt.plot(epochs, val_acc, 'r', label='Validation accurarcy')\n",
    "plt.title('Training and Validation accurarcy')\n",
    "plt.legend()\n",
    "\n",
    "plt.figure()\n",
    "\n",
    "# Train and validation loss\n",
    "plt.plot(epochs, loss, 'b', label='Training loss')\n",
    "plt.plot(epochs, val_loss, 'r', label='Validation loss')\n",
    "plt.title('Training and Validation loss')\n",
    "plt.legend()\n",
    "plt.show()"
   ]
  },
  {
   "cell_type": "markdown",
   "metadata": {
    "id": "BXO9rDqtNlDN"
   },
   "source": [
    "convert modèle to tensorflow js"
   ]
  },
  {
   "cell_type": "code",
   "execution_count": null,
   "metadata": {
    "id": "VsR9sMVsJqTE"
   },
   "outputs": [],
   "source": [
    "# !pip install tensorflowjs\n",
    "# !tensorflowjs_converter --input_format keras \"model.h5\" /content/jj"
   ]
  },
  {
   "cell_type": "code",
   "execution_count": null,
   "metadata": {
    "id": "a1PkWtA7Et37"
   },
   "outputs": [],
   "source": [
    "#from sklearn.metrics import classification_report, confusion_matrix\n",
    "#import numpy as np\n",
    "\n",
    "#y_pred = googlenet.predict(test_ds)\n",
    "#y_pred =(y_pred > 0.5)\n",
    "#list(y_pred)\n",
    "#cm = confusion_matrix(test_ds, y_pred)\n",
    "#print(cm)\n",
    "\n",
    "#y_pred = np.argmax(y_pred)\n",
    "#print('Confusion Matrix')\n",
    "#print(classification_report(test_ds.classes, y_pred))\n",
    "#print(confusion_matrix(test_ds, y_pred))\n",
    "#print('Classification Report')\n",
    "#target_names = ['Cats', 'Dogs', 'Horse']\n",
    "#print(classification_report(validation_generator.classes, y_pred, target_names=target_names))"
   ]
  },
  {
   "cell_type": "code",
   "execution_count": null,
   "metadata": {
    "id": "mVYTPhXYp026"
   },
   "outputs": [],
   "source": []
  },
  {
   "cell_type": "code",
   "execution_count": null,
   "metadata": {},
   "outputs": [],
   "source": []
  },
  {
   "cell_type": "code",
   "execution_count": null,
   "metadata": {},
   "outputs": [],
   "source": []
  }
 ],
 "metadata": {
  "accelerator": "TPU",
  "colab": {
   "collapsed_sections": [],
   "name": " AlexNet1_Plant_Disease_Classification.ipynb",
   "provenance": []
  },
  "kernelspec": {
   "display_name": "Python 3",
   "language": "python",
   "name": "python3"
  },
  "language_info": {
   "codemirror_mode": {
    "name": "ipython",
    "version": 3
   },
   "file_extension": ".py",
   "mimetype": "text/x-python",
   "name": "python",
   "nbconvert_exporter": "python",
   "pygments_lexer": "ipython3",
   "version": "3.7.3"
  }
 },
 "nbformat": 4,
 "nbformat_minor": 0
}
