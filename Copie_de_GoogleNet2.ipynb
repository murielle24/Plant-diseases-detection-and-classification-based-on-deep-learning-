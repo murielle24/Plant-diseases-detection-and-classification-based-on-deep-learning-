{
 "nbformat": 4,
 "nbformat_minor": 0,
 "metadata": {
  "kernelspec": {
   "name": "python3",
   "display_name": "Python 3 (ipykernel)",
   "language": "python"
  },
  "colab": {
   "name": "Copie de GoogleNet2.ipynb",
   "provenance": [],
   "collapsed_sections": []
  },
  "language_info": {
   "name": "python"
  },
  "accelerator": "GPU"
 },
 "cells": [
  {
   "cell_type": "code",
   "metadata": {
    "id": "4GZeExVJGIpR",
    "ExecuteTime": {
     "end_time": "2024-06-12T01:32:21.437984Z",
     "start_time": "2024-06-12T01:32:15.174733Z"
    }
   },
   "source": [
    "# import json\n",
    "# import time\n",
    "# \n",
    "# import joblib\n",
    "# import keras\n",
    "# import os\n",
    "# import matplotlib.pyplot as plt\n",
    "# import pandas as pd\n",
    "# import numpy as np\n",
    "# import random\n",
    "# from PIL import Image\n",
    "from keras.preprocessing.image import ImageDataGenerator\n",
    "# from keras.utils import to_categorical\n",
    "# from sklearn.model_selection import train_test_split\n",
    "# from glob import glob\n",
    "%matplotlib inline\n",
    "\n",
    "\n",
    "# import matplotlib.pyplot as plt\n",
    "# import numpy as np\n",
    "# import os\n",
    "# import tensorflow as tf\n",
    "\n",
    "# from tensorflow.keras.preprocessing import image_dataset_from_directory"
   ],
   "outputs": [
    {
     "name": "stderr",
     "output_type": "stream",
     "text": [
      "2024-06-12 02:32:15.363124: I tensorflow/core/platform/cpu_feature_guard.cc:193] This TensorFlow binary is optimized with oneAPI Deep Neural Network Library (oneDNN) to use the following CPU instructions in performance-critical operations:  SSE4.1 SSE4.2 AVX AVX2 FMA\n",
      "To enable them in other operations, rebuild TensorFlow with the appropriate compiler flags.\n"
     ]
    }
   ],
   "execution_count": 1
  },
  {
   "metadata": {},
   "cell_type": "code",
   "outputs": [],
   "execution_count": null,
   "source": [
    "import os\n",
    "import shutil\n",
    "import random\n",
    "\n",
    "def split_dataset(root_dir, new_root_dir):\n",
    "    \"\"\"\n",
    "    Divise un ensemble de données d'images en ensemble d'entraînement (80%) et de test (20%)\n",
    "    dans une nouvelle structure de dossiers.\n",
    "\n",
    "    Args:\n",
    "        root_dir (str): Chemin vers le dossier racine contenant les sous-dossiers de classes d'images.\n",
    "        new_root_dir (str): Chemin vers le nouveau dossier racine pour la nouvelle structure de dossiers.\n",
    "    \"\"\"\n",
    "    # Créer les dossiers \"train\" et \"test\" dans le nouveau dossier racine\n",
    "    os.makedirs(os.path.join(new_root_dir, \"train\"), exist_ok=True)\n",
    "    os.makedirs(os.path.join(new_root_dir, \"val\"), exist_ok=True)\n",
    "\n",
    "    # Parcourir les sous-dossiers dans le dossier racine\n",
    "    for subfolder in os.listdir(root_dir):\n",
    "        subfolder_path = os.path.join(root_dir, subfolder)\n",
    "        if os.path.isdir(subfolder_path):\n",
    "            # Créer les sous-dossiers \"train\" et \"test\" pour chaque classe\n",
    "            os.makedirs(os.path.join(new_root_dir, \"train\", subfolder), exist_ok=True)\n",
    "            os.makedirs(os.path.join(new_root_dir, \"val\", subfolder), exist_ok=True)\n",
    "\n",
    "            # Obtenir la liste des fichiers dans le sous-dossier\n",
    "            files = os.listdir(subfolder_path)\n",
    "            # Mélanger les fichiers\n",
    "            random.shuffle(files)\n",
    "\n",
    "            # Diviser les fichiers en 80% pour l'entraînement et 20% pour le test\n",
    "            train_files = files[:int(0.8 * len(files))]\n",
    "            test_files = files[int(0.8 * len(files)):]\n",
    "\n",
    "            # Copier les fichiers dans les nouveaux dossiers\n",
    "            for file in train_files:\n",
    "                shutil.copy(\n",
    "                    os.path.join(subfolder_path, file),\n",
    "                    os.path.join(new_root_dir, \"train\", subfolder, file)\n",
    "                )\n",
    "            for file in test_files:\n",
    "                shutil.copy(\n",
    "                    os.path.join(subfolder_path, file),\n",
    "                    os.path.join(new_root_dir, \"val\", subfolder, file)\n",
    "                )"
   ]
  },
  {
   "metadata": {},
   "cell_type": "code",
   "outputs": [],
   "execution_count": null,
   "source": "split_dataset(\"./crowdai\", \"./crowdai_F\")"
  },
  {
   "cell_type": "code",
   "metadata": {
    "id": "Y5P9FRE3G3bC",
    "ExecuteTime": {
     "end_time": "2024-06-12T01:32:34.426721Z",
     "start_time": "2024-06-12T01:32:34.422969Z"
    }
   },
   "source": [
    "# Dimension of resized image\n",
    "DEFAULT_IMAGE_SIZE = tuple((224, 224))\n",
    "\n",
    "# Number of images used to train the model\n",
    "N_IMAGES = 100\n",
    "\n",
    "# Path to the dataset folder\n",
    "root_dir = './crowdai_F'\n",
    "\n",
    "train_dir = os.path.join(root_dir, 'train')\n",
    "val_dir = os.path.join(root_dir, 'val')\n",
    "\n",
    "BATCH_SIZE = 64\n",
    "IMG_SIZE = (224, 224)"
   ],
   "outputs": [],
   "execution_count": 2
  },
  {
   "cell_type": "markdown",
   "metadata": {
    "id": "2mVy6F2pGIp3"
   },
   "source": [
    "### Preparing custom images data for training"
   ]
  },
  {
   "cell_type": "code",
   "metadata": {
    "id": "KH6IKkGSGIp7",
    "ExecuteTime": {
     "end_time": "2024-06-12T01:32:39.448962Z",
     "start_time": "2024-06-12T01:32:39.445302Z"
    }
   },
   "source": [
    "train_dir = train_dir\n",
    "\n",
    "# Load Dataset\n",
    "train_set = train_dir\n",
    "test_set = val_dir\n"
   ],
   "outputs": [],
   "execution_count": 3
  },
  {
   "cell_type": "markdown",
   "metadata": {
    "id": "Y6SyWEhXGIqE"
   },
   "source": [
    "### Typical input image size for CNN training is 224x224, 227x227"
   ]
  },
  {
   "cell_type": "code",
   "metadata": {
    "id": "T00-jxkwGIqF",
    "ExecuteTime": {
     "end_time": "2024-06-12T01:32:42.347679Z",
     "start_time": "2024-06-12T01:32:42.344420Z"
    }
   },
   "source": [
    "IMAGE_WIDTH, IMAGE_HEIGHT = 224, 224 \n",
    "FAST_RUN = False\n",
    "IMAGE_SIZE=(IMAGE_WIDTH, IMAGE_HEIGHT)\n",
    "IMAGE_CHANNELS=3"
   ],
   "outputs": [],
   "execution_count": 4
  },
  {
   "cell_type": "code",
   "metadata": {
    "colab": {
     "base_uri": "https://localhost:8080/"
    },
    "id": "78bh43bgI1-1",
    "outputId": "17774f3c-7a8a-4da2-c4d3-baba7120ee05",
    "ExecuteTime": {
     "end_time": "2024-06-12T01:32:44.140589Z",
     "start_time": "2024-06-12T01:32:42.813824Z"
    }
   },
   "source": [
    "IM_WIDTH=224\n",
    "IM_HEIGHT=224\n",
    "EPOCH=200\n",
    "batch_size=64\n",
    "NB_CLASS=38\n",
    "datagen = ImageDataGenerator(\n",
    "    rotation_range=30,\n",
    "    width_shift_range=0.2,\n",
    "    height_shift_range=0.2,\n",
    "    shear_range=0.2,\n",
    "    zoom_range=0.2,\n",
    "    horizontal_flip=True,\n",
    "    validation_split=0.2,\n",
    "    rescale=1./255\n",
    ")\n",
    "training_set = datagen.flow_from_directory(\n",
    "  train_dir,\n",
    "  target_size=(IM_WIDTH, IM_HEIGHT),\n",
    "  batch_size=batch_size,\n",
    "  class_mode='categorical', subset='training'\n",
    ")\n",
    "#vaild data\n",
    "test_set = datagen.flow_from_directory(\n",
    "  train_dir,\n",
    "  target_size=(IM_WIDTH, IM_HEIGHT),\n",
    "  batch_size=batch_size,\n",
    "  class_mode='categorical', subset='validation'\n",
    ")\n",
    "#test data\n",
    "test_datagen = ImageDataGenerator(\n",
    "    rotation_range=30,\n",
    "    width_shift_range=0.2,\n",
    "    height_shift_range=0.2,\n",
    "    shear_range=0.2,\n",
    "    zoom_range=0.2,\n",
    "    horizontal_flip=True,\n",
    "    featurewise_center=True\n",
    ")\n",
    "test_generator = datagen.flow_from_directory(\n",
    "  val_dir,\n",
    "  target_size=(IM_WIDTH, IM_HEIGHT),\n",
    "  batch_size=batch_size,\n",
    ")"
   ],
   "outputs": [
    {
     "name": "stdout",
     "output_type": "stream",
     "text": [
      "Found 14032 images belonging to 38 classes.\n",
      "Found 3489 images belonging to 38 classes.\n",
      "Found 4396 images belonging to 38 classes.\n"
     ]
    }
   ],
   "execution_count": 5
  },
  {
   "cell_type": "code",
   "metadata": {
    "colab": {
     "base_uri": "https://localhost:8080/",
     "height": 1000
    },
    "id": "YyUNZxgw0g94",
    "outputId": "0812e404-4de7-4e2e-c9a1-2b19900dd09a",
    "ExecuteTime": {
     "end_time": "2024-06-12T01:32:44.838172Z",
     "start_time": "2024-06-12T01:32:44.142799Z"
    }
   },
   "source": [
    "#from scipy.misc import imread, imresize\n",
    "import tensorflow as tf\n",
    "import matplotlib.pyplot as plt\n",
    "from tensorflow.keras import datasets, layers, models, losses, Model\n",
    "# train model\n",
    "\n",
    "def inception(x,\n",
    "              filters_1x1,\n",
    "              filters_3x3_reduce,\n",
    "              filters_3x3,\n",
    "              filters_5x5_reduce,\n",
    "              filters_5x5,\n",
    "              filters_pool):\n",
    "  path1 = layers.Conv2D(filters_1x1, (1, 1), padding='same',    activation='relu')(x)\n",
    "  path2 = layers.Conv2D(filters_3x3_reduce, (1, 1), padding='same', activation='relu')(x)\n",
    "  path2 = layers.Conv2D(filters_3x3, (1, 1), padding='same', activation='relu')(path2)\n",
    "  path3 = layers.Conv2D(filters_5x5_reduce, (1, 1), padding='same', activation='relu')(x)\n",
    "  path3 = layers.Conv2D(filters_5x5, (1, 1), padding='same', activation='relu')(path3)\n",
    "  path4 = layers.MaxPool2D((3, 3), strides=(1, 1), padding='same')(x)\n",
    "  path4 = layers.Conv2D(filters_pool, (1, 1), padding='same', activation='relu')(path4)\n",
    "  return tf.concat([path1, path2, path3, path4], axis=3)\n",
    "\n",
    "\n",
    "\n",
    "inp = layers.Input(shape=(224, 224, 3))\n",
    "input_tensor = (inp)\n",
    "x = layers.Conv2D(64, 7, strides=2, padding='same', activation='relu')(input_tensor)\n",
    "x = layers.MaxPooling2D(3, strides=2)(x)\n",
    "x = layers.Conv2D(64, 1, strides=1, padding='same', activation='relu')(x)\n",
    "x = layers.Conv2D(192, 3, strides=1, padding='same', activation='relu')(x)\n",
    "x = layers.MaxPooling2D(3, strides=2)(x)\n",
    "x = inception(x, filters_1x1=64, filters_3x3_reduce=96, filters_3x3=128, filters_5x5_reduce=16, filters_5x5=32, filters_pool=32)\n",
    "x = inception(x, filters_1x1=128, filters_3x3_reduce=128, filters_3x3=192, filters_5x5_reduce=32, filters_5x5=96, filters_pool=64)\n",
    "x = layers.MaxPooling2D(3, strides=2)(x)\n",
    "x = inception(x, filters_1x1=192, filters_3x3_reduce=96, filters_3x3=208, filters_5x5_reduce=16, filters_5x5=48, filters_pool=64)\n",
    "aux1 = layers.AveragePooling2D((5, 5), strides=3)(x)\n",
    "aux1 =layers.Conv2D(128, 1, padding='same', activation='relu')(aux1)\n",
    "aux1 = layers.Flatten()(aux1)\n",
    "aux1 = layers.Dense(1024, activation='relu')(aux1)\n",
    "aux1 = layers.Dropout(0.7)(aux1)\n",
    "aux1 = layers.Dense(38, activation='softmax')(aux1)\n",
    "x = inception(x, filters_1x1=160, filters_3x3_reduce=112, filters_3x3=224, filters_5x5_reduce=24, filters_5x5=64, filters_pool=64)\n",
    "x = inception(x, filters_1x1=128, filters_3x3_reduce=128, filters_3x3=256, filters_5x5_reduce=24, filters_5x5=64, filters_pool=64)\n",
    "x = inception(x, filters_1x1=112, filters_3x3_reduce=144, filters_3x3=288, filters_5x5_reduce=32, filters_5x5=64, filters_pool=64)\n",
    "aux2 = layers.AveragePooling2D((5, 5), strides=3)(x)\n",
    "aux2 =layers.Conv2D(128, 1, padding='same', activation='relu')(aux2)\n",
    "aux2 = layers.Flatten()(aux2)\n",
    "aux2 = layers.Dense(1024, activation='relu')(aux2)\n",
    "aux2 = layers.Dropout(0.7)(aux2) \n",
    "aux2 = layers.Dense(38, activation='softmax')(aux2)\n",
    "x = inception(x, filters_1x1=256, filters_3x3_reduce=160, filters_3x3=320, filters_5x5_reduce=32, filters_5x5=128, filters_pool=128)\n",
    "x = layers.MaxPooling2D(3, strides=2)(x)\n",
    "x = inception(x, filters_1x1=256, filters_3x3_reduce=160, filters_3x3=320, filters_5x5_reduce=32, filters_5x5=128, filters_pool=128)\n",
    "x = inception(x, filters_1x1=384, filters_3x3_reduce=192, filters_3x3=384, filters_5x5_reduce=48, filters_5x5=128, filters_pool=128)\n",
    "x = layers.GlobalAveragePooling2D()(x)\n",
    "x = layers.Dropout(0.4)(x)\n",
    "out = layers.Dense(38, activation='softmax')(x)\n",
    "model = Model(inputs = inp, outputs = [out, aux1, aux2])\n",
    "\n",
    "print( model.summary())\n",
    "\n",
    "from tensorflow.keras.utils import plot_model\n",
    "plot_model( model )"
   ],
   "outputs": [
    {
     "name": "stderr",
     "output_type": "stream",
     "text": [
      "2024-06-12 02:32:44.166369: I tensorflow/core/platform/cpu_feature_guard.cc:193] This TensorFlow binary is optimized with oneAPI Deep Neural Network Library (oneDNN) to use the following CPU instructions in performance-critical operations:  SSE4.1 SSE4.2 AVX AVX2 FMA\n",
      "To enable them in other operations, rebuild TensorFlow with the appropriate compiler flags.\n"
     ]
    },
    {
     "name": "stdout",
     "output_type": "stream",
     "text": [
      "Model: \"model\"\n",
      "__________________________________________________________________________________________________\n",
      " Layer (type)                   Output Shape         Param #     Connected to                     \n",
      "==================================================================================================\n",
      " input_1 (InputLayer)           [(None, 224, 224, 3  0           []                               \n",
      "                                )]                                                                \n",
      "                                                                                                  \n",
      " conv2d (Conv2D)                (None, 112, 112, 64  9472        ['input_1[0][0]']                \n",
      "                                )                                                                 \n",
      "                                                                                                  \n",
      " max_pooling2d (MaxPooling2D)   (None, 55, 55, 64)   0           ['conv2d[0][0]']                 \n",
      "                                                                                                  \n",
      " conv2d_1 (Conv2D)              (None, 55, 55, 64)   4160        ['max_pooling2d[0][0]']          \n",
      "                                                                                                  \n",
      " conv2d_2 (Conv2D)              (None, 55, 55, 192)  110784      ['conv2d_1[0][0]']               \n",
      "                                                                                                  \n",
      " max_pooling2d_1 (MaxPooling2D)  (None, 27, 27, 192)  0          ['conv2d_2[0][0]']               \n",
      "                                                                                                  \n",
      " conv2d_4 (Conv2D)              (None, 27, 27, 96)   18528       ['max_pooling2d_1[0][0]']        \n",
      "                                                                                                  \n",
      " conv2d_6 (Conv2D)              (None, 27, 27, 16)   3088        ['max_pooling2d_1[0][0]']        \n",
      "                                                                                                  \n",
      " max_pooling2d_2 (MaxPooling2D)  (None, 27, 27, 192)  0          ['max_pooling2d_1[0][0]']        \n",
      "                                                                                                  \n",
      " conv2d_3 (Conv2D)              (None, 27, 27, 64)   12352       ['max_pooling2d_1[0][0]']        \n",
      "                                                                                                  \n",
      " conv2d_5 (Conv2D)              (None, 27, 27, 128)  12416       ['conv2d_4[0][0]']               \n",
      "                                                                                                  \n",
      " conv2d_7 (Conv2D)              (None, 27, 27, 32)   544         ['conv2d_6[0][0]']               \n",
      "                                                                                                  \n",
      " conv2d_8 (Conv2D)              (None, 27, 27, 32)   6176        ['max_pooling2d_2[0][0]']        \n",
      "                                                                                                  \n",
      " tf.concat (TFOpLambda)         (None, 27, 27, 256)  0           ['conv2d_3[0][0]',               \n",
      "                                                                  'conv2d_5[0][0]',               \n",
      "                                                                  'conv2d_7[0][0]',               \n",
      "                                                                  'conv2d_8[0][0]']               \n",
      "                                                                                                  \n",
      " conv2d_10 (Conv2D)             (None, 27, 27, 128)  32896       ['tf.concat[0][0]']              \n",
      "                                                                                                  \n",
      " conv2d_12 (Conv2D)             (None, 27, 27, 32)   8224        ['tf.concat[0][0]']              \n",
      "                                                                                                  \n",
      " max_pooling2d_3 (MaxPooling2D)  (None, 27, 27, 256)  0          ['tf.concat[0][0]']              \n",
      "                                                                                                  \n",
      " conv2d_9 (Conv2D)              (None, 27, 27, 128)  32896       ['tf.concat[0][0]']              \n",
      "                                                                                                  \n",
      " conv2d_11 (Conv2D)             (None, 27, 27, 192)  24768       ['conv2d_10[0][0]']              \n",
      "                                                                                                  \n",
      " conv2d_13 (Conv2D)             (None, 27, 27, 96)   3168        ['conv2d_12[0][0]']              \n",
      "                                                                                                  \n",
      " conv2d_14 (Conv2D)             (None, 27, 27, 64)   16448       ['max_pooling2d_3[0][0]']        \n",
      "                                                                                                  \n",
      " tf.concat_1 (TFOpLambda)       (None, 27, 27, 480)  0           ['conv2d_9[0][0]',               \n",
      "                                                                  'conv2d_11[0][0]',              \n",
      "                                                                  'conv2d_13[0][0]',              \n",
      "                                                                  'conv2d_14[0][0]']              \n",
      "                                                                                                  \n",
      " max_pooling2d_4 (MaxPooling2D)  (None, 13, 13, 480)  0          ['tf.concat_1[0][0]']            \n",
      "                                                                                                  \n",
      " conv2d_16 (Conv2D)             (None, 13, 13, 96)   46176       ['max_pooling2d_4[0][0]']        \n",
      "                                                                                                  \n",
      " conv2d_18 (Conv2D)             (None, 13, 13, 16)   7696        ['max_pooling2d_4[0][0]']        \n",
      "                                                                                                  \n",
      " max_pooling2d_5 (MaxPooling2D)  (None, 13, 13, 480)  0          ['max_pooling2d_4[0][0]']        \n",
      "                                                                                                  \n",
      " conv2d_15 (Conv2D)             (None, 13, 13, 192)  92352       ['max_pooling2d_4[0][0]']        \n",
      "                                                                                                  \n",
      " conv2d_17 (Conv2D)             (None, 13, 13, 208)  20176       ['conv2d_16[0][0]']              \n",
      "                                                                                                  \n",
      " conv2d_19 (Conv2D)             (None, 13, 13, 48)   816         ['conv2d_18[0][0]']              \n",
      "                                                                                                  \n",
      " conv2d_20 (Conv2D)             (None, 13, 13, 64)   30784       ['max_pooling2d_5[0][0]']        \n",
      "                                                                                                  \n",
      " tf.concat_2 (TFOpLambda)       (None, 13, 13, 512)  0           ['conv2d_15[0][0]',              \n",
      "                                                                  'conv2d_17[0][0]',              \n",
      "                                                                  'conv2d_19[0][0]',              \n",
      "                                                                  'conv2d_20[0][0]']              \n",
      "                                                                                                  \n",
      " conv2d_23 (Conv2D)             (None, 13, 13, 112)  57456       ['tf.concat_2[0][0]']            \n",
      "                                                                                                  \n",
      " conv2d_25 (Conv2D)             (None, 13, 13, 24)   12312       ['tf.concat_2[0][0]']            \n",
      "                                                                                                  \n",
      " max_pooling2d_6 (MaxPooling2D)  (None, 13, 13, 512)  0          ['tf.concat_2[0][0]']            \n",
      "                                                                                                  \n",
      " conv2d_22 (Conv2D)             (None, 13, 13, 160)  82080       ['tf.concat_2[0][0]']            \n",
      "                                                                                                  \n",
      " conv2d_24 (Conv2D)             (None, 13, 13, 224)  25312       ['conv2d_23[0][0]']              \n",
      "                                                                                                  \n",
      " conv2d_26 (Conv2D)             (None, 13, 13, 64)   1600        ['conv2d_25[0][0]']              \n",
      "                                                                                                  \n",
      " conv2d_27 (Conv2D)             (None, 13, 13, 64)   32832       ['max_pooling2d_6[0][0]']        \n",
      "                                                                                                  \n",
      " tf.concat_3 (TFOpLambda)       (None, 13, 13, 512)  0           ['conv2d_22[0][0]',              \n",
      "                                                                  'conv2d_24[0][0]',              \n",
      "                                                                  'conv2d_26[0][0]',              \n",
      "                                                                  'conv2d_27[0][0]']              \n",
      "                                                                                                  \n",
      " conv2d_29 (Conv2D)             (None, 13, 13, 128)  65664       ['tf.concat_3[0][0]']            \n",
      "                                                                                                  \n",
      " conv2d_31 (Conv2D)             (None, 13, 13, 24)   12312       ['tf.concat_3[0][0]']            \n",
      "                                                                                                  \n",
      " max_pooling2d_7 (MaxPooling2D)  (None, 13, 13, 512)  0          ['tf.concat_3[0][0]']            \n",
      "                                                                                                  \n",
      " conv2d_28 (Conv2D)             (None, 13, 13, 128)  65664       ['tf.concat_3[0][0]']            \n",
      "                                                                                                  \n",
      " conv2d_30 (Conv2D)             (None, 13, 13, 256)  33024       ['conv2d_29[0][0]']              \n",
      "                                                                                                  \n",
      " conv2d_32 (Conv2D)             (None, 13, 13, 64)   1600        ['conv2d_31[0][0]']              \n",
      "                                                                                                  \n",
      " conv2d_33 (Conv2D)             (None, 13, 13, 64)   32832       ['max_pooling2d_7[0][0]']        \n",
      "                                                                                                  \n",
      " tf.concat_4 (TFOpLambda)       (None, 13, 13, 512)  0           ['conv2d_28[0][0]',              \n",
      "                                                                  'conv2d_30[0][0]',              \n",
      "                                                                  'conv2d_32[0][0]',              \n",
      "                                                                  'conv2d_33[0][0]']              \n",
      "                                                                                                  \n",
      " conv2d_35 (Conv2D)             (None, 13, 13, 144)  73872       ['tf.concat_4[0][0]']            \n",
      "                                                                                                  \n",
      " conv2d_37 (Conv2D)             (None, 13, 13, 32)   16416       ['tf.concat_4[0][0]']            \n",
      "                                                                                                  \n",
      " max_pooling2d_8 (MaxPooling2D)  (None, 13, 13, 512)  0          ['tf.concat_4[0][0]']            \n",
      "                                                                                                  \n",
      " conv2d_34 (Conv2D)             (None, 13, 13, 112)  57456       ['tf.concat_4[0][0]']            \n",
      "                                                                                                  \n",
      " conv2d_36 (Conv2D)             (None, 13, 13, 288)  41760       ['conv2d_35[0][0]']              \n",
      "                                                                                                  \n",
      " conv2d_38 (Conv2D)             (None, 13, 13, 64)   2112        ['conv2d_37[0][0]']              \n",
      "                                                                                                  \n",
      " conv2d_39 (Conv2D)             (None, 13, 13, 64)   32832       ['max_pooling2d_8[0][0]']        \n",
      "                                                                                                  \n",
      " tf.concat_5 (TFOpLambda)       (None, 13, 13, 528)  0           ['conv2d_34[0][0]',              \n",
      "                                                                  'conv2d_36[0][0]',              \n",
      "                                                                  'conv2d_38[0][0]',              \n",
      "                                                                  'conv2d_39[0][0]']              \n",
      "                                                                                                  \n",
      " conv2d_42 (Conv2D)             (None, 13, 13, 160)  84640       ['tf.concat_5[0][0]']            \n",
      "                                                                                                  \n",
      " conv2d_44 (Conv2D)             (None, 13, 13, 32)   16928       ['tf.concat_5[0][0]']            \n",
      "                                                                                                  \n",
      " max_pooling2d_9 (MaxPooling2D)  (None, 13, 13, 528)  0          ['tf.concat_5[0][0]']            \n",
      "                                                                                                  \n",
      " conv2d_41 (Conv2D)             (None, 13, 13, 256)  135424      ['tf.concat_5[0][0]']            \n",
      "                                                                                                  \n",
      " conv2d_43 (Conv2D)             (None, 13, 13, 320)  51520       ['conv2d_42[0][0]']              \n",
      "                                                                                                  \n",
      " conv2d_45 (Conv2D)             (None, 13, 13, 128)  4224        ['conv2d_44[0][0]']              \n",
      "                                                                                                  \n",
      " conv2d_46 (Conv2D)             (None, 13, 13, 128)  67712       ['max_pooling2d_9[0][0]']        \n",
      "                                                                                                  \n",
      " tf.concat_6 (TFOpLambda)       (None, 13, 13, 832)  0           ['conv2d_41[0][0]',              \n",
      "                                                                  'conv2d_43[0][0]',              \n",
      "                                                                  'conv2d_45[0][0]',              \n",
      "                                                                  'conv2d_46[0][0]']              \n",
      "                                                                                                  \n",
      " max_pooling2d_10 (MaxPooling2D  (None, 6, 6, 832)   0           ['tf.concat_6[0][0]']            \n",
      " )                                                                                                \n",
      "                                                                                                  \n",
      " conv2d_48 (Conv2D)             (None, 6, 6, 160)    133280      ['max_pooling2d_10[0][0]']       \n",
      "                                                                                                  \n",
      " conv2d_50 (Conv2D)             (None, 6, 6, 32)     26656       ['max_pooling2d_10[0][0]']       \n",
      "                                                                                                  \n",
      " max_pooling2d_11 (MaxPooling2D  (None, 6, 6, 832)   0           ['max_pooling2d_10[0][0]']       \n",
      " )                                                                                                \n",
      "                                                                                                  \n",
      " conv2d_47 (Conv2D)             (None, 6, 6, 256)    213248      ['max_pooling2d_10[0][0]']       \n",
      "                                                                                                  \n",
      " conv2d_49 (Conv2D)             (None, 6, 6, 320)    51520       ['conv2d_48[0][0]']              \n",
      "                                                                                                  \n",
      " conv2d_51 (Conv2D)             (None, 6, 6, 128)    4224        ['conv2d_50[0][0]']              \n",
      "                                                                                                  \n",
      " conv2d_52 (Conv2D)             (None, 6, 6, 128)    106624      ['max_pooling2d_11[0][0]']       \n",
      "                                                                                                  \n",
      " tf.concat_7 (TFOpLambda)       (None, 6, 6, 832)    0           ['conv2d_47[0][0]',              \n",
      "                                                                  'conv2d_49[0][0]',              \n",
      "                                                                  'conv2d_51[0][0]',              \n",
      "                                                                  'conv2d_52[0][0]']              \n",
      "                                                                                                  \n",
      " conv2d_54 (Conv2D)             (None, 6, 6, 192)    159936      ['tf.concat_7[0][0]']            \n",
      "                                                                                                  \n",
      " conv2d_56 (Conv2D)             (None, 6, 6, 48)     39984       ['tf.concat_7[0][0]']            \n",
      "                                                                                                  \n",
      " max_pooling2d_12 (MaxPooling2D  (None, 6, 6, 832)   0           ['tf.concat_7[0][0]']            \n",
      " )                                                                                                \n",
      "                                                                                                  \n",
      " average_pooling2d (AveragePool  (None, 3, 3, 512)   0           ['tf.concat_2[0][0]']            \n",
      " ing2D)                                                                                           \n",
      "                                                                                                  \n",
      " average_pooling2d_1 (AveragePo  (None, 3, 3, 528)   0           ['tf.concat_5[0][0]']            \n",
      " oling2D)                                                                                         \n",
      "                                                                                                  \n",
      " conv2d_53 (Conv2D)             (None, 6, 6, 384)    319872      ['tf.concat_7[0][0]']            \n",
      "                                                                                                  \n",
      " conv2d_55 (Conv2D)             (None, 6, 6, 384)    74112       ['conv2d_54[0][0]']              \n",
      "                                                                                                  \n",
      " conv2d_57 (Conv2D)             (None, 6, 6, 128)    6272        ['conv2d_56[0][0]']              \n",
      "                                                                                                  \n",
      " conv2d_58 (Conv2D)             (None, 6, 6, 128)    106624      ['max_pooling2d_12[0][0]']       \n",
      "                                                                                                  \n",
      " conv2d_21 (Conv2D)             (None, 3, 3, 128)    65664       ['average_pooling2d[0][0]']      \n",
      "                                                                                                  \n",
      " conv2d_40 (Conv2D)             (None, 3, 3, 128)    67712       ['average_pooling2d_1[0][0]']    \n",
      "                                                                                                  \n",
      " tf.concat_8 (TFOpLambda)       (None, 6, 6, 1024)   0           ['conv2d_53[0][0]',              \n",
      "                                                                  'conv2d_55[0][0]',              \n",
      "                                                                  'conv2d_57[0][0]',              \n",
      "                                                                  'conv2d_58[0][0]']              \n",
      "                                                                                                  \n",
      " flatten (Flatten)              (None, 1152)         0           ['conv2d_21[0][0]']              \n",
      "                                                                                                  \n",
      " flatten_1 (Flatten)            (None, 1152)         0           ['conv2d_40[0][0]']              \n",
      "                                                                                                  \n",
      " global_average_pooling2d (Glob  (None, 1024)        0           ['tf.concat_8[0][0]']            \n",
      " alAveragePooling2D)                                                                              \n",
      "                                                                                                  \n",
      " dense (Dense)                  (None, 1024)         1180672     ['flatten[0][0]']                \n",
      "                                                                                                  \n",
      " dense_2 (Dense)                (None, 1024)         1180672     ['flatten_1[0][0]']              \n",
      "                                                                                                  \n",
      " dropout_2 (Dropout)            (None, 1024)         0           ['global_average_pooling2d[0][0]'\n",
      "                                                                 ]                                \n",
      "                                                                                                  \n",
      " dropout (Dropout)              (None, 1024)         0           ['dense[0][0]']                  \n",
      "                                                                                                  \n",
      " dropout_1 (Dropout)            (None, 1024)         0           ['dense_2[0][0]']                \n",
      "                                                                                                  \n",
      " dense_4 (Dense)                (None, 38)           38950       ['dropout_2[0][0]']              \n",
      "                                                                                                  \n",
      " dense_1 (Dense)                (None, 38)           38950       ['dropout[0][0]']                \n",
      "                                                                                                  \n",
      " dense_3 (Dense)                (None, 38)           38950       ['dropout_1[0][0]']              \n",
      "                                                                                                  \n",
      "==================================================================================================\n",
      "Total params: 5,355,426\n",
      "Trainable params: 5,355,426\n",
      "Non-trainable params: 0\n",
      "__________________________________________________________________________________________________\n",
      "None\n",
      "You must install pydot (`pip install pydot`) and install graphviz (see instructions at https://graphviz.gitlab.io/download/) for plot_model to work.\n"
     ]
    }
   ],
   "execution_count": 6
  },
  {
   "cell_type": "code",
   "metadata": {
    "id": "92LkwiTQNlYe",
    "ExecuteTime": {
     "end_time": "2024-06-12T01:32:47.728262Z",
     "start_time": "2024-06-12T01:32:47.722355Z"
    }
   },
   "source": [
    "from keras import backend as K\n",
    "\n",
    "def recall_m(y_true, y_pred):\n",
    "    true_positives = K.sum(K.round(K.clip(y_true * y_pred, 0, 1)))\n",
    "    possible_positives = K.sum(K.round(K.clip(y_true, 0, 1)))\n",
    "    recall = true_positives / (possible_positives + K.epsilon())\n",
    "    return recall\n",
    "\n",
    "def precision_m(y_true, y_pred):\n",
    "    true_positives = K.sum(K.round(K.clip(y_true * y_pred, 0, 1)))\n",
    "    predicted_positives = K.sum(K.round(K.clip(y_pred, 0, 1)))\n",
    "    precision = true_positives / (predicted_positives + K.epsilon())\n",
    "    return precision\n",
    "\n",
    "def f1_m(y_true, y_pred):\n",
    "    precision = precision_m(y_true, y_pred)\n",
    "    recall = recall_m(y_true, y_pred)\n",
    "    return 2*((precision*recall)/(precision+recall+K.epsilon()))"
   ],
   "outputs": [],
   "execution_count": 7
  },
  {
   "cell_type": "code",
   "metadata": {
    "scrolled": true,
    "id": "FnnnjYdPGIqG",
    "ExecuteTime": {
     "end_time": "2024-06-12T01:32:49.535475Z",
     "start_time": "2024-06-12T01:32:49.522527Z"
    }
   },
   "source": [
    "\n",
    "\n",
    "#model.compile(optimizer='adam', \n",
    "#              loss=[losses.sparse_categorical_crossentropy,losses.sparse_categorical_crossentropy, losses.sparse_categorical_crossentropy],\n",
    "#              loss_weights=[1, 0.3, 0.3],\n",
    "#              metrics=['accuracy', f1_m, precision_m, recall_m])\n",
    "#model.compile(loss='categorical_crossentropy', optimizer='rmsprop', metrics=['accuracy', f1_m, precision_m, recall_m])\n",
    "model.compile(\n",
    "  loss='categorical_crossentropy',\n",
    "  optimizer='adam',\n",
    "  metrics=['accuracy' ,  precision_m, recall_m, f1_m])\n",
    "#)\n",
    "#model.compile(\n",
    "#        optimizer=tf.keras.optimizers.Adam(\n",
    "#        learning_rate=tf.keras.optimizers.schedules.ExponentialDecay(\n",
    "#        initial_learning_rate=0.001, decay_steps=439, decay_rate=0.5, staircase=False), beta_1=0.9, beta_2=0.999, epsilon=1e-07, amsgrad=False,\n",
    "#        name='Adam'),\n",
    "#        loss= 'categorical_crossentropy',\n",
    "#      metrics=['accuracy', f1_m, precision_m, recall_m])\n",
    "\n"
   ],
   "outputs": [],
   "execution_count": 8
  },
  {
   "cell_type": "markdown",
   "metadata": {
    "id": "1aJV2paGGIqS"
   },
   "source": [
    "### Traning Generator"
   ]
  },
  {
   "cell_type": "code",
   "metadata": {
    "id": "nVodU-eKy57s",
    "ExecuteTime": {
     "end_time": "2024-06-12T08:51:40.285955Z",
     "start_time": "2024-06-12T01:33:00.833242Z"
    }
   },
   "source": [
    "incep = model.fit(training_set,\n",
    "                            validation_data = test_generator,\n",
    "                            epochs = 50,\n",
    "                            steps_per_epoch = len(training_set),\n",
    "                            validation_steps=len(test_generator))"
   ],
   "outputs": [
    {
     "name": "stdout",
     "output_type": "stream",
     "text": [
      "Epoch 1/50\n",
      "220/220 [==============================] - 517s 2s/step - loss: 9.4264 - dense_4_loss: 3.1408 - dense_1_loss: 3.1338 - dense_3_loss: 3.1518 - dense_4_accuracy: 0.1591 - dense_4_precision_m: 0.2683 - dense_4_recall_m: 0.0162 - dense_4_f1_m: 0.0295 - dense_1_accuracy: 0.1666 - dense_1_precision_m: 0.3550 - dense_1_recall_m: 0.0234 - dense_1_f1_m: 0.0427 - dense_3_accuracy: 0.1560 - dense_3_precision_m: 0.2963 - dense_3_recall_m: 0.0220 - dense_3_f1_m: 0.0398 - val_loss: 8.5476 - val_dense_4_loss: 2.8694 - val_dense_1_loss: 2.8153 - val_dense_3_loss: 2.8629 - val_dense_4_accuracy: 0.2027 - val_dense_4_precision_m: 0.6250 - val_dense_4_recall_m: 0.0815 - val_dense_4_f1_m: 0.1429 - val_dense_1_accuracy: 0.2200 - val_dense_1_precision_m: 0.6946 - val_dense_1_recall_m: 0.0952 - val_dense_1_f1_m: 0.1661 - val_dense_3_accuracy: 0.2043 - val_dense_3_precision_m: 0.7079 - val_dense_3_recall_m: 0.0785 - val_dense_3_f1_m: 0.1402\n",
      "Epoch 2/50\n",
      "220/220 [==============================] - 512s 2s/step - loss: 8.2396 - dense_4_loss: 2.7907 - dense_1_loss: 2.6557 - dense_3_loss: 2.7932 - dense_4_accuracy: 0.2359 - dense_4_precision_m: 0.6643 - dense_4_recall_m: 0.0962 - dense_4_f1_m: 0.1623 - dense_1_accuracy: 0.2707 - dense_1_precision_m: 0.6701 - dense_1_recall_m: 0.1145 - dense_1_f1_m: 0.1909 - dense_3_accuracy: 0.2333 - dense_3_precision_m: 0.6502 - dense_3_recall_m: 0.0951 - dense_3_f1_m: 0.1611 - val_loss: 7.4407 - val_dense_4_loss: 2.6328 - val_dense_1_loss: 2.2941 - val_dense_3_loss: 2.5138 - val_dense_4_accuracy: 0.2568 - val_dense_4_precision_m: 0.7425 - val_dense_4_recall_m: 0.1505 - val_dense_4_f1_m: 0.2487 - val_dense_1_accuracy: 0.3690 - val_dense_1_precision_m: 0.7762 - val_dense_1_recall_m: 0.1899 - val_dense_1_f1_m: 0.3035 - val_dense_3_accuracy: 0.2941 - val_dense_3_precision_m: 0.7590 - val_dense_3_recall_m: 0.1794 - val_dense_3_f1_m: 0.2881\n",
      "Epoch 3/50\n",
      "220/220 [==============================] - 496s 2s/step - loss: 6.8280 - dense_4_loss: 2.2968 - dense_1_loss: 2.1821 - dense_3_loss: 2.3491 - dense_4_accuracy: 0.3533 - dense_4_precision_m: 0.7554 - dense_4_recall_m: 0.1955 - dense_4_f1_m: 0.3060 - dense_1_accuracy: 0.3929 - dense_1_precision_m: 0.7392 - dense_1_recall_m: 0.2151 - dense_1_f1_m: 0.3296 - dense_3_accuracy: 0.3425 - dense_3_precision_m: 0.7271 - dense_3_recall_m: 0.1877 - dense_3_f1_m: 0.2949 - val_loss: 5.7455 - val_dense_4_loss: 1.9868 - val_dense_1_loss: 1.7724 - val_dense_3_loss: 1.9862 - val_dense_4_accuracy: 0.4242 - val_dense_4_precision_m: 0.8519 - val_dense_4_recall_m: 0.2222 - val_dense_4_f1_m: 0.3499 - val_dense_1_accuracy: 0.4875 - val_dense_1_precision_m: 0.8290 - val_dense_1_recall_m: 0.3036 - val_dense_1_f1_m: 0.4423 - val_dense_3_accuracy: 0.4236 - val_dense_3_precision_m: 0.8699 - val_dense_3_recall_m: 0.2057 - val_dense_3_f1_m: 0.3303\n",
      "Epoch 4/50\n",
      "220/220 [==============================] - 502s 2s/step - loss: 5.2834 - dense_4_loss: 1.7586 - dense_1_loss: 1.6929 - dense_3_loss: 1.8318 - dense_4_accuracy: 0.4793 - dense_4_precision_m: 0.8053 - dense_4_recall_m: 0.3261 - dense_4_f1_m: 0.4599 - dense_1_accuracy: 0.5041 - dense_1_precision_m: 0.7973 - dense_1_recall_m: 0.3433 - dense_1_f1_m: 0.4767 - dense_3_accuracy: 0.4677 - dense_3_precision_m: 0.7970 - dense_3_recall_m: 0.3115 - dense_3_f1_m: 0.4442 - val_loss: 4.6417 - val_dense_4_loss: 1.5820 - val_dense_1_loss: 1.4574 - val_dense_3_loss: 1.6024 - val_dense_4_accuracy: 0.5223 - val_dense_4_precision_m: 0.8345 - val_dense_4_recall_m: 0.3512 - val_dense_4_f1_m: 0.4919 - val_dense_1_accuracy: 0.5564 - val_dense_1_precision_m: 0.8414 - val_dense_1_recall_m: 0.3854 - val_dense_1_f1_m: 0.5265 - val_dense_3_accuracy: 0.5262 - val_dense_3_precision_m: 0.8522 - val_dense_3_recall_m: 0.3573 - val_dense_3_f1_m: 0.5008\n",
      "Epoch 5/50\n",
      "220/220 [==============================] - 544s 2s/step - loss: 4.1531 - dense_4_loss: 1.3737 - dense_1_loss: 1.3281 - dense_3_loss: 1.4514 - dense_4_accuracy: 0.5801 - dense_4_precision_m: 0.8227 - dense_4_recall_m: 0.4324 - dense_4_f1_m: 0.5642 - dense_1_accuracy: 0.5973 - dense_1_precision_m: 0.8191 - dense_1_recall_m: 0.4525 - dense_1_f1_m: 0.5807 - dense_3_accuracy: 0.5683 - dense_3_precision_m: 0.8243 - dense_3_recall_m: 0.4183 - dense_3_f1_m: 0.5526 - val_loss: 3.4472 - val_dense_4_loss: 1.1929 - val_dense_1_loss: 1.0551 - val_dense_3_loss: 1.1992 - val_dense_4_accuracy: 0.6426 - val_dense_4_precision_m: 0.8477 - val_dense_4_recall_m: 0.4768 - val_dense_4_f1_m: 0.6087 - val_dense_1_accuracy: 0.6804 - val_dense_1_precision_m: 0.8731 - val_dense_1_recall_m: 0.5120 - val_dense_1_f1_m: 0.6436 - val_dense_3_accuracy: 0.6426 - val_dense_3_precision_m: 0.8598 - val_dense_3_recall_m: 0.4766 - val_dense_3_f1_m: 0.6113\n",
      "Epoch 6/50\n",
      "220/220 [==============================] - 539s 2s/step - loss: 3.4925 - dense_4_loss: 1.1420 - dense_1_loss: 1.1269 - dense_3_loss: 1.2236 - dense_4_accuracy: 0.6480 - dense_4_precision_m: 0.8329 - dense_4_recall_m: 0.5155 - dense_4_f1_m: 0.6346 - dense_1_accuracy: 0.6490 - dense_1_precision_m: 0.8276 - dense_1_recall_m: 0.5224 - dense_1_f1_m: 0.6386 - dense_3_accuracy: 0.6299 - dense_3_precision_m: 0.8288 - dense_3_recall_m: 0.4933 - dense_3_f1_m: 0.6162 - val_loss: 2.9446 - val_dense_4_loss: 0.9934 - val_dense_1_loss: 0.9380 - val_dense_3_loss: 1.0131 - val_dense_4_accuracy: 0.7054 - val_dense_4_precision_m: 0.8751 - val_dense_4_recall_m: 0.5304 - val_dense_4_f1_m: 0.6590 - val_dense_1_accuracy: 0.7243 - val_dense_1_precision_m: 0.8875 - val_dense_1_recall_m: 0.5463 - val_dense_1_f1_m: 0.6749 - val_dense_3_accuracy: 0.6922 - val_dense_3_precision_m: 0.8888 - val_dense_3_recall_m: 0.5179 - val_dense_3_f1_m: 0.6532\n",
      "Epoch 7/50\n",
      "220/220 [==============================] - 521s 2s/step - loss: 2.9311 - dense_4_loss: 0.9449 - dense_1_loss: 0.9590 - dense_3_loss: 1.0271 - dense_4_accuracy: 0.7042 - dense_4_precision_m: 0.8342 - dense_4_recall_m: 0.5906 - dense_4_f1_m: 0.6899 - dense_1_accuracy: 0.7009 - dense_1_precision_m: 0.8373 - dense_1_recall_m: 0.5836 - dense_1_f1_m: 0.6863 - dense_3_accuracy: 0.6859 - dense_3_precision_m: 0.8327 - dense_3_recall_m: 0.5622 - dense_3_f1_m: 0.6696 - val_loss: 2.5296 - val_dense_4_loss: 0.8467 - val_dense_1_loss: 0.7828 - val_dense_3_loss: 0.9001 - val_dense_4_accuracy: 0.7286 - val_dense_4_precision_m: 0.8363 - val_dense_4_recall_m: 0.6467 - val_dense_4_f1_m: 0.7287 - val_dense_1_accuracy: 0.7509 - val_dense_1_precision_m: 0.8681 - val_dense_1_recall_m: 0.6595 - val_dense_1_f1_m: 0.7487 - val_dense_3_accuracy: 0.7170 - val_dense_3_precision_m: 0.8375 - val_dense_3_recall_m: 0.6326 - val_dense_3_f1_m: 0.7198\n",
      "Epoch 8/50\n",
      "220/220 [==============================] - 518s 2s/step - loss: 2.4299 - dense_4_loss: 0.7621 - dense_1_loss: 0.8155 - dense_3_loss: 0.8523 - dense_4_accuracy: 0.7610 - dense_4_precision_m: 0.8533 - dense_4_recall_m: 0.6806 - dense_4_f1_m: 0.7564 - dense_1_accuracy: 0.7452 - dense_1_precision_m: 0.8519 - dense_1_recall_m: 0.6510 - dense_1_f1_m: 0.7373 - dense_3_accuracy: 0.7322 - dense_3_precision_m: 0.8455 - dense_3_recall_m: 0.6376 - dense_3_f1_m: 0.7260 - val_loss: 1.9891 - val_dense_4_loss: 0.6480 - val_dense_1_loss: 0.6432 - val_dense_3_loss: 0.6979 - val_dense_4_accuracy: 0.7882 - val_dense_4_precision_m: 0.8536 - val_dense_4_recall_m: 0.7307 - val_dense_4_f1_m: 0.7868 - val_dense_1_accuracy: 0.7871 - val_dense_1_precision_m: 0.8767 - val_dense_1_recall_m: 0.7082 - val_dense_1_f1_m: 0.7827 - val_dense_3_accuracy: 0.7780 - val_dense_3_precision_m: 0.8550 - val_dense_3_recall_m: 0.7024 - val_dense_3_f1_m: 0.7705\n",
      "Epoch 9/50\n",
      "220/220 [==============================] - 533s 2s/step - loss: 2.1260 - dense_4_loss: 0.6718 - dense_1_loss: 0.7150 - dense_3_loss: 0.7392 - dense_4_accuracy: 0.7870 - dense_4_precision_m: 0.8588 - dense_4_recall_m: 0.7188 - dense_4_f1_m: 0.7820 - dense_1_accuracy: 0.7729 - dense_1_precision_m: 0.8623 - dense_1_recall_m: 0.6933 - dense_1_f1_m: 0.7678 - dense_3_accuracy: 0.7701 - dense_3_precision_m: 0.8560 - dense_3_recall_m: 0.6912 - dense_3_f1_m: 0.7640 - val_loss: 2.0121 - val_dense_4_loss: 0.6629 - val_dense_1_loss: 0.6548 - val_dense_3_loss: 0.6944 - val_dense_4_accuracy: 0.7866 - val_dense_4_precision_m: 0.8449 - val_dense_4_recall_m: 0.7317 - val_dense_4_f1_m: 0.7839 - val_dense_1_accuracy: 0.7912 - val_dense_1_precision_m: 0.8553 - val_dense_1_recall_m: 0.7297 - val_dense_1_f1_m: 0.7870 - val_dense_3_accuracy: 0.7812 - val_dense_3_precision_m: 0.8480 - val_dense_3_recall_m: 0.7143 - val_dense_3_f1_m: 0.7749\n",
      "Epoch 10/50\n",
      "220/220 [==============================] - 532s 2s/step - loss: 1.9137 - dense_4_loss: 0.5978 - dense_1_loss: 0.6469 - dense_3_loss: 0.6690 - dense_4_accuracy: 0.8074 - dense_4_precision_m: 0.8687 - dense_4_recall_m: 0.7522 - dense_4_f1_m: 0.8058 - dense_1_accuracy: 0.7899 - dense_1_precision_m: 0.8661 - dense_1_recall_m: 0.7248 - dense_1_f1_m: 0.7884 - dense_3_accuracy: 0.7891 - dense_3_precision_m: 0.8647 - dense_3_recall_m: 0.7244 - dense_3_f1_m: 0.7878 - val_loss: 1.5990 - val_dense_4_loss: 0.5207 - val_dense_1_loss: 0.5270 - val_dense_3_loss: 0.5512 - val_dense_4_accuracy: 0.8317 - val_dense_4_precision_m: 0.8893 - val_dense_4_recall_m: 0.7826 - val_dense_4_f1_m: 0.8321 - val_dense_1_accuracy: 0.8328 - val_dense_1_precision_m: 0.8940 - val_dense_1_recall_m: 0.7768 - val_dense_1_f1_m: 0.8309 - val_dense_3_accuracy: 0.8298 - val_dense_3_precision_m: 0.8910 - val_dense_3_recall_m: 0.7735 - val_dense_3_f1_m: 0.8277\n",
      "Epoch 11/50\n",
      "220/220 [==============================] - 535s 2s/step - loss: 1.6480 - dense_4_loss: 0.4959 - dense_1_loss: 0.5787 - dense_3_loss: 0.5733 - dense_4_accuracy: 0.8390 - dense_4_precision_m: 0.8859 - dense_4_recall_m: 0.7952 - dense_4_f1_m: 0.8375 - dense_1_accuracy: 0.8138 - dense_1_precision_m: 0.8777 - dense_1_recall_m: 0.7523 - dense_1_f1_m: 0.8096 - dense_3_accuracy: 0.8176 - dense_3_precision_m: 0.8773 - dense_3_recall_m: 0.7627 - dense_3_f1_m: 0.8154 - val_loss: 1.3097 - val_dense_4_loss: 0.4166 - val_dense_1_loss: 0.4434 - val_dense_3_loss: 0.4498 - val_dense_4_accuracy: 0.8631 - val_dense_4_precision_m: 0.9036 - val_dense_4_recall_m: 0.8323 - val_dense_4_f1_m: 0.8663 - val_dense_1_accuracy: 0.8581 - val_dense_1_precision_m: 0.9059 - val_dense_1_recall_m: 0.8154 - val_dense_1_f1_m: 0.8579 - val_dense_3_accuracy: 0.8581 - val_dense_3_precision_m: 0.9017 - val_dense_3_recall_m: 0.8145 - val_dense_3_f1_m: 0.8556\n",
      "Epoch 12/50\n",
      "220/220 [==============================] - 543s 2s/step - loss: 1.5812 - dense_4_loss: 0.4859 - dense_1_loss: 0.5427 - dense_3_loss: 0.5526 - dense_4_accuracy: 0.8458 - dense_4_precision_m: 0.8880 - dense_4_recall_m: 0.8075 - dense_4_f1_m: 0.8454 - dense_1_accuracy: 0.8252 - dense_1_precision_m: 0.8819 - dense_1_recall_m: 0.7755 - dense_1_f1_m: 0.8248 - dense_3_accuracy: 0.8265 - dense_3_precision_m: 0.8812 - dense_3_recall_m: 0.7766 - dense_3_f1_m: 0.8251 - val_loss: 1.4879 - val_dense_4_loss: 0.4878 - val_dense_1_loss: 0.4633 - val_dense_3_loss: 0.5368 - val_dense_4_accuracy: 0.8403 - val_dense_4_precision_m: 0.9008 - val_dense_4_recall_m: 0.7901 - val_dense_4_f1_m: 0.8413 - val_dense_1_accuracy: 0.8487 - val_dense_1_precision_m: 0.9037 - val_dense_1_recall_m: 0.8057 - val_dense_1_f1_m: 0.8514 - val_dense_3_accuracy: 0.8333 - val_dense_3_precision_m: 0.8941 - val_dense_3_recall_m: 0.7806 - val_dense_3_f1_m: 0.8329\n",
      "Epoch 13/50\n",
      "220/220 [==============================] - 530s 2s/step - loss: 1.3396 - dense_4_loss: 0.3975 - dense_1_loss: 0.4741 - dense_3_loss: 0.4681 - dense_4_accuracy: 0.8736 - dense_4_precision_m: 0.9071 - dense_4_recall_m: 0.8439 - dense_4_f1_m: 0.8741 - dense_1_accuracy: 0.8462 - dense_1_precision_m: 0.8942 - dense_1_recall_m: 0.8038 - dense_1_f1_m: 0.8462 - dense_3_accuracy: 0.8504 - dense_3_precision_m: 0.8975 - dense_3_recall_m: 0.8129 - dense_3_f1_m: 0.8527 - val_loss: 1.3418 - val_dense_4_loss: 0.4248 - val_dense_1_loss: 0.4502 - val_dense_3_loss: 0.4668 - val_dense_4_accuracy: 0.8626 - val_dense_4_precision_m: 0.8919 - val_dense_4_recall_m: 0.8401 - val_dense_4_f1_m: 0.8650 - val_dense_1_accuracy: 0.8546 - val_dense_1_precision_m: 0.8924 - val_dense_1_recall_m: 0.8219 - val_dense_1_f1_m: 0.8554 - val_dense_3_accuracy: 0.8505 - val_dense_3_precision_m: 0.8829 - val_dense_3_recall_m: 0.8217 - val_dense_3_f1_m: 0.8510\n",
      "Epoch 14/50\n",
      "220/220 [==============================] - 534s 2s/step - loss: 1.2610 - dense_4_loss: 0.3744 - dense_1_loss: 0.4471 - dense_3_loss: 0.4394 - dense_4_accuracy: 0.8806 - dense_4_precision_m: 0.9107 - dense_4_recall_m: 0.8558 - dense_4_f1_m: 0.8821 - dense_1_accuracy: 0.8593 - dense_1_precision_m: 0.9005 - dense_1_recall_m: 0.8218 - dense_1_f1_m: 0.8590 - dense_3_accuracy: 0.8639 - dense_3_precision_m: 0.9036 - dense_3_recall_m: 0.8279 - dense_3_f1_m: 0.8637 - val_loss: 1.0705 - val_dense_4_loss: 0.3515 - val_dense_1_loss: 0.3560 - val_dense_3_loss: 0.3631 - val_dense_4_accuracy: 0.8872 - val_dense_4_precision_m: 0.9099 - val_dense_4_recall_m: 0.8612 - val_dense_4_f1_m: 0.8847 - val_dense_1_accuracy: 0.8847 - val_dense_1_precision_m: 0.9197 - val_dense_1_recall_m: 0.8508 - val_dense_1_f1_m: 0.8837 - val_dense_3_accuracy: 0.8869 - val_dense_3_precision_m: 0.9154 - val_dense_3_recall_m: 0.8606 - val_dense_3_f1_m: 0.8870\n",
      "Epoch 15/50\n",
      "220/220 [==============================] - 537s 2s/step - loss: 1.1629 - dense_4_loss: 0.3466 - dense_1_loss: 0.4142 - dense_3_loss: 0.4020 - dense_4_accuracy: 0.8866 - dense_4_precision_m: 0.9154 - dense_4_recall_m: 0.8627 - dense_4_f1_m: 0.8880 - dense_1_accuracy: 0.8640 - dense_1_precision_m: 0.9051 - dense_1_recall_m: 0.8303 - dense_1_f1_m: 0.8658 - dense_3_accuracy: 0.8771 - dense_3_precision_m: 0.9131 - dense_3_recall_m: 0.8470 - dense_3_f1_m: 0.8784 - val_loss: 1.1195 - val_dense_4_loss: 0.3406 - val_dense_1_loss: 0.3746 - val_dense_3_loss: 0.4043 - val_dense_4_accuracy: 0.8983 - val_dense_4_precision_m: 0.9236 - val_dense_4_recall_m: 0.8731 - val_dense_4_f1_m: 0.8974 - val_dense_1_accuracy: 0.8806 - val_dense_1_precision_m: 0.9070 - val_dense_1_recall_m: 0.8531 - val_dense_1_f1_m: 0.8790 - val_dense_3_accuracy: 0.8742 - val_dense_3_precision_m: 0.9076 - val_dense_3_recall_m: 0.8477 - val_dense_3_f1_m: 0.8764\n",
      "Epoch 16/50\n",
      "220/220 [==============================] - 542s 2s/step - loss: 1.0803 - dense_4_loss: 0.3246 - dense_1_loss: 0.3872 - dense_3_loss: 0.3685 - dense_4_accuracy: 0.8930 - dense_4_precision_m: 0.9176 - dense_4_recall_m: 0.8705 - dense_4_f1_m: 0.8933 - dense_1_accuracy: 0.8743 - dense_1_precision_m: 0.9068 - dense_1_recall_m: 0.8443 - dense_1_f1_m: 0.8741 - dense_3_accuracy: 0.8836 - dense_3_precision_m: 0.9137 - dense_3_recall_m: 0.8553 - dense_3_f1_m: 0.8833 - val_loss: 1.0238 - val_dense_4_loss: 0.3277 - val_dense_1_loss: 0.3370 - val_dense_3_loss: 0.3591 - val_dense_4_accuracy: 0.8947 - val_dense_4_precision_m: 0.9222 - val_dense_4_recall_m: 0.8751 - val_dense_4_f1_m: 0.8978 - val_dense_1_accuracy: 0.8938 - val_dense_1_precision_m: 0.9216 - val_dense_1_recall_m: 0.8665 - val_dense_1_f1_m: 0.8930 - val_dense_3_accuracy: 0.8874 - val_dense_3_precision_m: 0.9118 - val_dense_3_recall_m: 0.8683 - val_dense_3_f1_m: 0.8893\n",
      "Epoch 17/50\n",
      "220/220 [==============================] - 537s 2s/step - loss: 0.9504 - dense_4_loss: 0.2751 - dense_1_loss: 0.3429 - dense_3_loss: 0.3325 - dense_4_accuracy: 0.9096 - dense_4_precision_m: 0.9292 - dense_4_recall_m: 0.8930 - dense_4_f1_m: 0.9106 - dense_1_accuracy: 0.8907 - dense_1_precision_m: 0.9192 - dense_1_recall_m: 0.8638 - dense_1_f1_m: 0.8905 - dense_3_accuracy: 0.8947 - dense_3_precision_m: 0.9204 - dense_3_recall_m: 0.8706 - dense_3_f1_m: 0.8946 - val_loss: 0.9720 - val_dense_4_loss: 0.3106 - val_dense_1_loss: 0.3356 - val_dense_3_loss: 0.3258 - val_dense_4_accuracy: 0.9081 - val_dense_4_precision_m: 0.9302 - val_dense_4_recall_m: 0.8917 - val_dense_4_f1_m: 0.9104 - val_dense_1_accuracy: 0.8924 - val_dense_1_precision_m: 0.9212 - val_dense_1_recall_m: 0.8681 - val_dense_1_f1_m: 0.8937 - val_dense_3_accuracy: 0.9020 - val_dense_3_precision_m: 0.9213 - val_dense_3_recall_m: 0.8801 - val_dense_3_f1_m: 0.9001\n",
      "Epoch 18/50\n",
      "220/220 [==============================] - 542s 2s/step - loss: 0.9217 - dense_4_loss: 0.2661 - dense_1_loss: 0.3336 - dense_3_loss: 0.3220 - dense_4_accuracy: 0.9132 - dense_4_precision_m: 0.9324 - dense_4_recall_m: 0.8989 - dense_4_f1_m: 0.9152 - dense_1_accuracy: 0.8947 - dense_1_precision_m: 0.9217 - dense_1_recall_m: 0.8698 - dense_1_f1_m: 0.8948 - dense_3_accuracy: 0.9005 - dense_3_precision_m: 0.9264 - dense_3_recall_m: 0.8775 - dense_3_f1_m: 0.9010 - val_loss: 0.9139 - val_dense_4_loss: 0.2942 - val_dense_1_loss: 0.2975 - val_dense_3_loss: 0.3221 - val_dense_4_accuracy: 0.9070 - val_dense_4_precision_m: 0.9315 - val_dense_4_recall_m: 0.8899 - val_dense_4_f1_m: 0.9100 - val_dense_1_accuracy: 0.9070 - val_dense_1_precision_m: 0.9311 - val_dense_1_recall_m: 0.8828 - val_dense_1_f1_m: 0.9060 - val_dense_3_accuracy: 0.8985 - val_dense_3_precision_m: 0.9249 - val_dense_3_recall_m: 0.8781 - val_dense_3_f1_m: 0.9007\n",
      "Epoch 19/50\n",
      "220/220 [==============================] - 516s 2s/step - loss: 0.9123 - dense_4_loss: 0.2749 - dense_1_loss: 0.3192 - dense_3_loss: 0.3181 - dense_4_accuracy: 0.9115 - dense_4_precision_m: 0.9333 - dense_4_recall_m: 0.8942 - dense_4_f1_m: 0.9131 - dense_1_accuracy: 0.8932 - dense_1_precision_m: 0.9212 - dense_1_recall_m: 0.8719 - dense_1_f1_m: 0.8957 - dense_3_accuracy: 0.8995 - dense_3_precision_m: 0.9278 - dense_3_recall_m: 0.8798 - dense_3_f1_m: 0.9030 - val_loss: 0.7733 - val_dense_4_loss: 0.2556 - val_dense_1_loss: 0.2648 - val_dense_3_loss: 0.2529 - val_dense_4_accuracy: 0.9215 - val_dense_4_precision_m: 0.9398 - val_dense_4_recall_m: 0.9080 - val_dense_4_f1_m: 0.9235 - val_dense_1_accuracy: 0.9181 - val_dense_1_precision_m: 0.9343 - val_dense_1_recall_m: 0.9035 - val_dense_1_f1_m: 0.9185 - val_dense_3_accuracy: 0.9252 - val_dense_3_precision_m: 0.9418 - val_dense_3_recall_m: 0.9081 - val_dense_3_f1_m: 0.9245\n",
      "Epoch 20/50\n",
      "220/220 [==============================] - 514s 2s/step - loss: 0.9075 - dense_4_loss: 0.2696 - dense_1_loss: 0.3277 - dense_3_loss: 0.3102 - dense_4_accuracy: 0.9145 - dense_4_precision_m: 0.9340 - dense_4_recall_m: 0.8974 - dense_4_f1_m: 0.9151 - dense_1_accuracy: 0.8942 - dense_1_precision_m: 0.9219 - dense_1_recall_m: 0.8714 - dense_1_f1_m: 0.8957 - dense_3_accuracy: 0.9053 - dense_3_precision_m: 0.9285 - dense_3_recall_m: 0.8834 - dense_3_f1_m: 0.9051 - val_loss: 0.7520 - val_dense_4_loss: 0.2335 - val_dense_1_loss: 0.2646 - val_dense_3_loss: 0.2540 - val_dense_4_accuracy: 0.9274 - val_dense_4_precision_m: 0.9443 - val_dense_4_recall_m: 0.9123 - val_dense_4_f1_m: 0.9279 - val_dense_1_accuracy: 0.9192 - val_dense_1_precision_m: 0.9346 - val_dense_1_recall_m: 0.9081 - val_dense_1_f1_m: 0.9211 - val_dense_3_accuracy: 0.9258 - val_dense_3_precision_m: 0.9420 - val_dense_3_recall_m: 0.9116 - val_dense_3_f1_m: 0.9265\n",
      "Epoch 21/50\n",
      "220/220 [==============================] - 521s 2s/step - loss: 0.7094 - dense_4_loss: 0.2054 - dense_1_loss: 0.2644 - dense_3_loss: 0.2397 - dense_4_accuracy: 0.9318 - dense_4_precision_m: 0.9457 - dense_4_recall_m: 0.9208 - dense_4_f1_m: 0.9330 - dense_1_accuracy: 0.9141 - dense_1_precision_m: 0.9354 - dense_1_recall_m: 0.8968 - dense_1_f1_m: 0.9155 - dense_3_accuracy: 0.9237 - dense_3_precision_m: 0.9411 - dense_3_recall_m: 0.9093 - dense_3_f1_m: 0.9248 - val_loss: 0.7624 - val_dense_4_loss: 0.2456 - val_dense_1_loss: 0.2623 - val_dense_3_loss: 0.2546 - val_dense_4_accuracy: 0.9224 - val_dense_4_precision_m: 0.9384 - val_dense_4_recall_m: 0.9071 - val_dense_4_f1_m: 0.9224 - val_dense_1_accuracy: 0.9138 - val_dense_1_precision_m: 0.9323 - val_dense_1_recall_m: 0.8996 - val_dense_1_f1_m: 0.9156 - val_dense_3_accuracy: 0.9174 - val_dense_3_precision_m: 0.9377 - val_dense_3_recall_m: 0.9052 - val_dense_3_f1_m: 0.9210\n",
      "Epoch 22/50\n",
      "220/220 [==============================] - 511s 2s/step - loss: 0.7488 - dense_4_loss: 0.2196 - dense_1_loss: 0.2671 - dense_3_loss: 0.2622 - dense_4_accuracy: 0.9305 - dense_4_precision_m: 0.9455 - dense_4_recall_m: 0.9194 - dense_4_f1_m: 0.9322 - dense_1_accuracy: 0.9139 - dense_1_precision_m: 0.9335 - dense_1_recall_m: 0.8966 - dense_1_f1_m: 0.9145 - dense_3_accuracy: 0.9201 - dense_3_precision_m: 0.9388 - dense_3_recall_m: 0.9045 - dense_3_f1_m: 0.9212 - val_loss: 0.7285 - val_dense_4_loss: 0.2372 - val_dense_1_loss: 0.2405 - val_dense_3_loss: 0.2508 - val_dense_4_accuracy: 0.9270 - val_dense_4_precision_m: 0.9450 - val_dense_4_recall_m: 0.9096 - val_dense_4_f1_m: 0.9268 - val_dense_1_accuracy: 0.9192 - val_dense_1_precision_m: 0.9361 - val_dense_1_recall_m: 0.9022 - val_dense_1_f1_m: 0.9187 - val_dense_3_accuracy: 0.9242 - val_dense_3_precision_m: 0.9430 - val_dense_3_recall_m: 0.9080 - val_dense_3_f1_m: 0.9250\n",
      "Epoch 23/50\n",
      "220/220 [==============================] - 518s 2s/step - loss: 0.6838 - dense_4_loss: 0.1993 - dense_1_loss: 0.2493 - dense_3_loss: 0.2352 - dense_4_accuracy: 0.9357 - dense_4_precision_m: 0.9491 - dense_4_recall_m: 0.9244 - dense_4_f1_m: 0.9365 - dense_1_accuracy: 0.9200 - dense_1_precision_m: 0.9383 - dense_1_recall_m: 0.9035 - dense_1_f1_m: 0.9204 - dense_3_accuracy: 0.9303 - dense_3_precision_m: 0.9454 - dense_3_recall_m: 0.9156 - dense_3_f1_m: 0.9301 - val_loss: 0.6652 - val_dense_4_loss: 0.2037 - val_dense_1_loss: 0.2296 - val_dense_3_loss: 0.2319 - val_dense_4_accuracy: 0.9356 - val_dense_4_precision_m: 0.9478 - val_dense_4_recall_m: 0.9249 - val_dense_4_f1_m: 0.9361 - val_dense_1_accuracy: 0.9258 - val_dense_1_precision_m: 0.9388 - val_dense_1_recall_m: 0.9135 - val_dense_1_f1_m: 0.9259 - val_dense_3_accuracy: 0.9263 - val_dense_3_precision_m: 0.9387 - val_dense_3_recall_m: 0.9131 - val_dense_3_f1_m: 0.9257\n",
      "Epoch 24/50\n",
      "220/220 [==============================] - 513s 2s/step - loss: 0.6353 - dense_4_loss: 0.1832 - dense_1_loss: 0.2348 - dense_3_loss: 0.2173 - dense_4_accuracy: 0.9412 - dense_4_precision_m: 0.9531 - dense_4_recall_m: 0.9325 - dense_4_f1_m: 0.9426 - dense_1_accuracy: 0.9256 - dense_1_precision_m: 0.9425 - dense_1_recall_m: 0.9102 - dense_1_f1_m: 0.9259 - dense_3_accuracy: 0.9326 - dense_3_precision_m: 0.9476 - dense_3_recall_m: 0.9200 - dense_3_f1_m: 0.9335 - val_loss: 0.7142 - val_dense_4_loss: 0.2348 - val_dense_1_loss: 0.2335 - val_dense_3_loss: 0.2459 - val_dense_4_accuracy: 0.9279 - val_dense_4_precision_m: 0.9402 - val_dense_4_recall_m: 0.9204 - val_dense_4_f1_m: 0.9301 - val_dense_1_accuracy: 0.9277 - val_dense_1_precision_m: 0.9400 - val_dense_1_recall_m: 0.9148 - val_dense_1_f1_m: 0.9271 - val_dense_3_accuracy: 0.9238 - val_dense_3_precision_m: 0.9347 - val_dense_3_recall_m: 0.9151 - val_dense_3_f1_m: 0.9247\n",
      "Epoch 25/50\n",
      "220/220 [==============================] - 519s 2s/step - loss: 0.6097 - dense_4_loss: 0.1787 - dense_1_loss: 0.2216 - dense_3_loss: 0.2094 - dense_4_accuracy: 0.9433 - dense_4_precision_m: 0.9529 - dense_4_recall_m: 0.9343 - dense_4_f1_m: 0.9434 - dense_1_accuracy: 0.9278 - dense_1_precision_m: 0.9421 - dense_1_recall_m: 0.9152 - dense_1_f1_m: 0.9283 - dense_3_accuracy: 0.9351 - dense_3_precision_m: 0.9500 - dense_3_recall_m: 0.9241 - dense_3_f1_m: 0.9367 - val_loss: 0.9398 - val_dense_4_loss: 0.3038 - val_dense_1_loss: 0.2962 - val_dense_3_loss: 0.3397 - val_dense_4_accuracy: 0.9092 - val_dense_4_precision_m: 0.9291 - val_dense_4_recall_m: 0.8930 - val_dense_4_f1_m: 0.9106 - val_dense_1_accuracy: 0.9061 - val_dense_1_precision_m: 0.9204 - val_dense_1_recall_m: 0.8948 - val_dense_1_f1_m: 0.9074 - val_dense_3_accuracy: 0.8963 - val_dense_3_precision_m: 0.9162 - val_dense_3_recall_m: 0.8784 - val_dense_3_f1_m: 0.8968\n",
      "Epoch 26/50\n",
      "220/220 [==============================] - 520s 2s/step - loss: 0.6211 - dense_4_loss: 0.1825 - dense_1_loss: 0.2296 - dense_3_loss: 0.2090 - dense_4_accuracy: 0.9418 - dense_4_precision_m: 0.9522 - dense_4_recall_m: 0.9322 - dense_4_f1_m: 0.9420 - dense_1_accuracy: 0.9262 - dense_1_precision_m: 0.9423 - dense_1_recall_m: 0.9136 - dense_1_f1_m: 0.9276 - dense_3_accuracy: 0.9322 - dense_3_precision_m: 0.9475 - dense_3_recall_m: 0.9214 - dense_3_f1_m: 0.9342 - val_loss: 0.7169 - val_dense_4_loss: 0.2204 - val_dense_1_loss: 0.2501 - val_dense_3_loss: 0.2464 - val_dense_4_accuracy: 0.9265 - val_dense_4_precision_m: 0.9389 - val_dense_4_recall_m: 0.9169 - val_dense_4_f1_m: 0.9277 - val_dense_1_accuracy: 0.9190 - val_dense_1_precision_m: 0.9313 - val_dense_1_recall_m: 0.9086 - val_dense_1_f1_m: 0.9197 - val_dense_3_accuracy: 0.9242 - val_dense_3_precision_m: 0.9353 - val_dense_3_recall_m: 0.9122 - val_dense_3_f1_m: 0.9235\n",
      "Epoch 27/50\n",
      "220/220 [==============================] - 512s 2s/step - loss: 0.6730 - dense_4_loss: 0.1973 - dense_1_loss: 0.2449 - dense_3_loss: 0.2308 - dense_4_accuracy: 0.9373 - dense_4_precision_m: 0.9493 - dense_4_recall_m: 0.9261 - dense_4_f1_m: 0.9374 - dense_1_accuracy: 0.9230 - dense_1_precision_m: 0.9400 - dense_1_recall_m: 0.9085 - dense_1_f1_m: 0.9238 - dense_3_accuracy: 0.9284 - dense_3_precision_m: 0.9435 - dense_3_recall_m: 0.9157 - dense_3_f1_m: 0.9292 - val_loss: 0.5585 - val_dense_4_loss: 0.1816 - val_dense_1_loss: 0.1857 - val_dense_3_loss: 0.1912 - val_dense_4_accuracy: 0.9463 - val_dense_4_precision_m: 0.9558 - val_dense_4_recall_m: 0.9390 - val_dense_4_f1_m: 0.9472 - val_dense_1_accuracy: 0.9406 - val_dense_1_precision_m: 0.9528 - val_dense_1_recall_m: 0.9314 - val_dense_1_f1_m: 0.9419 - val_dense_3_accuracy: 0.9404 - val_dense_3_precision_m: 0.9516 - val_dense_3_recall_m: 0.9291 - val_dense_3_f1_m: 0.9401\n",
      "Epoch 28/50\n",
      "220/220 [==============================] - 514s 2s/step - loss: 0.5262 - dense_4_loss: 0.1479 - dense_1_loss: 0.2034 - dense_3_loss: 0.1749 - dense_4_accuracy: 0.9524 - dense_4_precision_m: 0.9602 - dense_4_recall_m: 0.9458 - dense_4_f1_m: 0.9529 - dense_1_accuracy: 0.9344 - dense_1_precision_m: 0.9461 - dense_1_recall_m: 0.9222 - dense_1_f1_m: 0.9339 - dense_3_accuracy: 0.9467 - dense_3_precision_m: 0.9573 - dense_3_recall_m: 0.9361 - dense_3_f1_m: 0.9465 - val_loss: 0.5874 - val_dense_4_loss: 0.1908 - val_dense_1_loss: 0.1856 - val_dense_3_loss: 0.2110 - val_dense_4_accuracy: 0.9434 - val_dense_4_precision_m: 0.9516 - val_dense_4_recall_m: 0.9376 - val_dense_4_f1_m: 0.9445 - val_dense_1_accuracy: 0.9436 - val_dense_1_precision_m: 0.9537 - val_dense_1_recall_m: 0.9356 - val_dense_1_f1_m: 0.9445 - val_dense_3_accuracy: 0.9424 - val_dense_3_precision_m: 0.9513 - val_dense_3_recall_m: 0.9340 - val_dense_3_f1_m: 0.9425\n",
      "Epoch 29/50\n",
      "220/220 [==============================] - 510s 2s/step - loss: 0.5783 - dense_4_loss: 0.1622 - dense_1_loss: 0.2217 - dense_3_loss: 0.1944 - dense_4_accuracy: 0.9475 - dense_4_precision_m: 0.9548 - dense_4_recall_m: 0.9386 - dense_4_f1_m: 0.9466 - dense_1_accuracy: 0.9294 - dense_1_precision_m: 0.9439 - dense_1_recall_m: 0.9151 - dense_1_f1_m: 0.9292 - dense_3_accuracy: 0.9411 - dense_3_precision_m: 0.9543 - dense_3_recall_m: 0.9295 - dense_3_f1_m: 0.9417 - val_loss: 0.6913 - val_dense_4_loss: 0.2221 - val_dense_1_loss: 0.2185 - val_dense_3_loss: 0.2508 - val_dense_4_accuracy: 0.9288 - val_dense_4_precision_m: 0.9412 - val_dense_4_recall_m: 0.9199 - val_dense_4_f1_m: 0.9303 - val_dense_1_accuracy: 0.9363 - val_dense_1_precision_m: 0.9474 - val_dense_1_recall_m: 0.9252 - val_dense_1_f1_m: 0.9361 - val_dense_3_accuracy: 0.9233 - val_dense_3_precision_m: 0.9367 - val_dense_3_recall_m: 0.9126 - val_dense_3_f1_m: 0.9244\n",
      "Epoch 30/50\n",
      "220/220 [==============================] - 517s 2s/step - loss: 0.5071 - dense_4_loss: 0.1424 - dense_1_loss: 0.1926 - dense_3_loss: 0.1721 - dense_4_accuracy: 0.9526 - dense_4_precision_m: 0.9613 - dense_4_recall_m: 0.9458 - dense_4_f1_m: 0.9534 - dense_1_accuracy: 0.9373 - dense_1_precision_m: 0.9506 - dense_1_recall_m: 0.9259 - dense_1_f1_m: 0.9380 - dense_3_accuracy: 0.9458 - dense_3_precision_m: 0.9563 - dense_3_recall_m: 0.9377 - dense_3_f1_m: 0.9468 - val_loss: 0.5659 - val_dense_4_loss: 0.1803 - val_dense_1_loss: 0.1906 - val_dense_3_loss: 0.1951 - val_dense_4_accuracy: 0.9461 - val_dense_4_precision_m: 0.9557 - val_dense_4_recall_m: 0.9382 - val_dense_4_f1_m: 0.9468 - val_dense_1_accuracy: 0.9379 - val_dense_1_precision_m: 0.9484 - val_dense_1_recall_m: 0.9269 - val_dense_1_f1_m: 0.9375 - val_dense_3_accuracy: 0.9397 - val_dense_3_precision_m: 0.9500 - val_dense_3_recall_m: 0.9305 - val_dense_3_f1_m: 0.9401\n",
      "Epoch 31/50\n",
      "220/220 [==============================] - 514s 2s/step - loss: 0.5193 - dense_4_loss: 0.1529 - dense_1_loss: 0.1905 - dense_3_loss: 0.1759 - dense_4_accuracy: 0.9520 - dense_4_precision_m: 0.9609 - dense_4_recall_m: 0.9446 - dense_4_f1_m: 0.9526 - dense_1_accuracy: 0.9384 - dense_1_precision_m: 0.9502 - dense_1_recall_m: 0.9281 - dense_1_f1_m: 0.9389 - dense_3_accuracy: 0.9475 - dense_3_precision_m: 0.9585 - dense_3_recall_m: 0.9377 - dense_3_f1_m: 0.9479 - val_loss: 0.5521 - val_dense_4_loss: 0.1770 - val_dense_1_loss: 0.1965 - val_dense_3_loss: 0.1786 - val_dense_4_accuracy: 0.9486 - val_dense_4_precision_m: 0.9571 - val_dense_4_recall_m: 0.9436 - val_dense_4_f1_m: 0.9502 - val_dense_1_accuracy: 0.9409 - val_dense_1_precision_m: 0.9485 - val_dense_1_recall_m: 0.9329 - val_dense_1_f1_m: 0.9406 - val_dense_3_accuracy: 0.9493 - val_dense_3_precision_m: 0.9569 - val_dense_3_recall_m: 0.9410 - val_dense_3_f1_m: 0.9488\n",
      "Epoch 32/50\n",
      "220/220 [==============================] - 547s 2s/step - loss: 0.5074 - dense_4_loss: 0.1497 - dense_1_loss: 0.1883 - dense_3_loss: 0.1694 - dense_4_accuracy: 0.9520 - dense_4_precision_m: 0.9608 - dense_4_recall_m: 0.9452 - dense_4_f1_m: 0.9529 - dense_1_accuracy: 0.9390 - dense_1_precision_m: 0.9514 - dense_1_recall_m: 0.9288 - dense_1_f1_m: 0.9399 - dense_3_accuracy: 0.9472 - dense_3_precision_m: 0.9586 - dense_3_recall_m: 0.9384 - dense_3_f1_m: 0.9483 - val_loss: 0.7395 - val_dense_4_loss: 0.2500 - val_dense_1_loss: 0.2185 - val_dense_3_loss: 0.2710 - val_dense_4_accuracy: 0.9277 - val_dense_4_precision_m: 0.9384 - val_dense_4_recall_m: 0.9185 - val_dense_4_f1_m: 0.9283 - val_dense_1_accuracy: 0.9313 - val_dense_1_precision_m: 0.9421 - val_dense_1_recall_m: 0.9224 - val_dense_1_f1_m: 0.9320 - val_dense_3_accuracy: 0.9240 - val_dense_3_precision_m: 0.9361 - val_dense_3_recall_m: 0.9129 - val_dense_3_f1_m: 0.9242\n",
      "Epoch 33/50\n",
      "220/220 [==============================] - 523s 2s/step - loss: 0.4741 - dense_4_loss: 0.1305 - dense_1_loss: 0.1823 - dense_3_loss: 0.1613 - dense_4_accuracy: 0.9584 - dense_4_precision_m: 0.9653 - dense_4_recall_m: 0.9510 - dense_4_f1_m: 0.9580 - dense_1_accuracy: 0.9402 - dense_1_precision_m: 0.9523 - dense_1_recall_m: 0.9305 - dense_1_f1_m: 0.9412 - dense_3_accuracy: 0.9492 - dense_3_precision_m: 0.9602 - dense_3_recall_m: 0.9405 - dense_3_f1_m: 0.9502 - val_loss: 0.5437 - val_dense_4_loss: 0.1793 - val_dense_1_loss: 0.1663 - val_dense_3_loss: 0.1981 - val_dense_4_accuracy: 0.9481 - val_dense_4_precision_m: 0.9543 - val_dense_4_recall_m: 0.9427 - val_dense_4_f1_m: 0.9484 - val_dense_1_accuracy: 0.9495 - val_dense_1_precision_m: 0.9564 - val_dense_1_recall_m: 0.9412 - val_dense_1_f1_m: 0.9487 - val_dense_3_accuracy: 0.9438 - val_dense_3_precision_m: 0.9513 - val_dense_3_recall_m: 0.9385 - val_dense_3_f1_m: 0.9448\n",
      "Epoch 34/50\n",
      "220/220 [==============================] - 551s 3s/step - loss: 0.4524 - dense_4_loss: 0.1263 - dense_1_loss: 0.1728 - dense_3_loss: 0.1533 - dense_4_accuracy: 0.9575 - dense_4_precision_m: 0.9641 - dense_4_recall_m: 0.9536 - dense_4_f1_m: 0.9588 - dense_1_accuracy: 0.9440 - dense_1_precision_m: 0.9541 - dense_1_recall_m: 0.9362 - dense_1_f1_m: 0.9450 - dense_3_accuracy: 0.9535 - dense_3_precision_m: 0.9626 - dense_3_recall_m: 0.9467 - dense_3_f1_m: 0.9545 - val_loss: 0.6075 - val_dense_4_loss: 0.1908 - val_dense_1_loss: 0.1999 - val_dense_3_loss: 0.2169 - val_dense_4_accuracy: 0.9372 - val_dense_4_precision_m: 0.9480 - val_dense_4_recall_m: 0.9291 - val_dense_4_f1_m: 0.9383 - val_dense_1_accuracy: 0.9359 - val_dense_1_precision_m: 0.9442 - val_dense_1_recall_m: 0.9282 - val_dense_1_f1_m: 0.9361 - val_dense_3_accuracy: 0.9315 - val_dense_3_precision_m: 0.9419 - val_dense_3_recall_m: 0.9241 - val_dense_3_f1_m: 0.9328\n",
      "Epoch 35/50\n",
      "220/220 [==============================] - 499s 2s/step - loss: 0.4360 - dense_4_loss: 0.1195 - dense_1_loss: 0.1709 - dense_3_loss: 0.1455 - dense_4_accuracy: 0.9630 - dense_4_precision_m: 0.9693 - dense_4_recall_m: 0.9573 - dense_4_f1_m: 0.9632 - dense_1_accuracy: 0.9468 - dense_1_precision_m: 0.9551 - dense_1_recall_m: 0.9386 - dense_1_f1_m: 0.9467 - dense_3_accuracy: 0.9573 - dense_3_precision_m: 0.9655 - dense_3_recall_m: 0.9496 - dense_3_f1_m: 0.9575 - val_loss: 0.5857 - val_dense_4_loss: 0.1747 - val_dense_1_loss: 0.2044 - val_dense_3_loss: 0.2065 - val_dense_4_accuracy: 0.9518 - val_dense_4_precision_m: 0.9588 - val_dense_4_recall_m: 0.9451 - val_dense_4_f1_m: 0.9518 - val_dense_1_accuracy: 0.9377 - val_dense_1_precision_m: 0.9455 - val_dense_1_recall_m: 0.9347 - val_dense_1_f1_m: 0.9400 - val_dense_3_accuracy: 0.9415 - val_dense_3_precision_m: 0.9498 - val_dense_3_recall_m: 0.9360 - val_dense_3_f1_m: 0.9428\n",
      "Epoch 36/50\n",
      "220/220 [==============================] - 509s 2s/step - loss: 0.4278 - dense_4_loss: 0.1166 - dense_1_loss: 0.1631 - dense_3_loss: 0.1481 - dense_4_accuracy: 0.9626 - dense_4_precision_m: 0.9689 - dense_4_recall_m: 0.9575 - dense_4_f1_m: 0.9631 - dense_1_accuracy: 0.9461 - dense_1_precision_m: 0.9571 - dense_1_recall_m: 0.9378 - dense_1_f1_m: 0.9473 - dense_3_accuracy: 0.9545 - dense_3_precision_m: 0.9626 - dense_3_recall_m: 0.9478 - dense_3_f1_m: 0.9551 - val_loss: 0.5636 - val_dense_4_loss: 0.1809 - val_dense_1_loss: 0.2058 - val_dense_3_loss: 0.1768 - val_dense_4_accuracy: 0.9475 - val_dense_4_precision_m: 0.9552 - val_dense_4_recall_m: 0.9392 - val_dense_4_f1_m: 0.9471 - val_dense_1_accuracy: 0.9402 - val_dense_1_precision_m: 0.9498 - val_dense_1_recall_m: 0.9352 - val_dense_1_f1_m: 0.9424 - val_dense_3_accuracy: 0.9550 - val_dense_3_precision_m: 0.9623 - val_dense_3_recall_m: 0.9488 - val_dense_3_f1_m: 0.9555\n",
      "Epoch 37/50\n",
      "220/220 [==============================] - 490s 2s/step - loss: 0.4777 - dense_4_loss: 0.1378 - dense_1_loss: 0.1815 - dense_3_loss: 0.1585 - dense_4_accuracy: 0.9566 - dense_4_precision_m: 0.9633 - dense_4_recall_m: 0.9503 - dense_4_f1_m: 0.9567 - dense_1_accuracy: 0.9437 - dense_1_precision_m: 0.9529 - dense_1_recall_m: 0.9336 - dense_1_f1_m: 0.9431 - dense_3_accuracy: 0.9529 - dense_3_precision_m: 0.9604 - dense_3_recall_m: 0.9443 - dense_3_f1_m: 0.9522 - val_loss: 0.5100 - val_dense_4_loss: 0.1536 - val_dense_1_loss: 0.1884 - val_dense_3_loss: 0.1680 - val_dense_4_accuracy: 0.9540 - val_dense_4_precision_m: 0.9599 - val_dense_4_recall_m: 0.9482 - val_dense_4_f1_m: 0.9539 - val_dense_1_accuracy: 0.9413 - val_dense_1_precision_m: 0.9494 - val_dense_1_recall_m: 0.9324 - val_dense_1_f1_m: 0.9408 - val_dense_3_accuracy: 0.9488 - val_dense_3_precision_m: 0.9576 - val_dense_3_recall_m: 0.9442 - val_dense_3_f1_m: 0.9508\n",
      "Epoch 38/50\n",
      "220/220 [==============================] - 502s 2s/step - loss: 0.3292 - dense_4_loss: 0.0827 - dense_1_loss: 0.1394 - dense_3_loss: 0.1072 - dense_4_accuracy: 0.9731 - dense_4_precision_m: 0.9777 - dense_4_recall_m: 0.9692 - dense_4_f1_m: 0.9734 - dense_1_accuracy: 0.9552 - dense_1_precision_m: 0.9631 - dense_1_recall_m: 0.9484 - dense_1_f1_m: 0.9556 - dense_3_accuracy: 0.9660 - dense_3_precision_m: 0.9711 - dense_3_recall_m: 0.9608 - dense_3_f1_m: 0.9659 - val_loss: 0.5406 - val_dense_4_loss: 0.1762 - val_dense_1_loss: 0.1825 - val_dense_3_loss: 0.1819 - val_dense_4_accuracy: 0.9529 - val_dense_4_precision_m: 0.9580 - val_dense_4_recall_m: 0.9475 - val_dense_4_f1_m: 0.9527 - val_dense_1_accuracy: 0.9461 - val_dense_1_precision_m: 0.9532 - val_dense_1_recall_m: 0.9396 - val_dense_1_f1_m: 0.9463 - val_dense_3_accuracy: 0.9506 - val_dense_3_precision_m: 0.9555 - val_dense_3_recall_m: 0.9475 - val_dense_3_f1_m: 0.9514\n",
      "Epoch 39/50\n",
      "220/220 [==============================] - 505s 2s/step - loss: 0.4209 - dense_4_loss: 0.1139 - dense_1_loss: 0.1653 - dense_3_loss: 0.1418 - dense_4_accuracy: 0.9643 - dense_4_precision_m: 0.9696 - dense_4_recall_m: 0.9592 - dense_4_f1_m: 0.9643 - dense_1_accuracy: 0.9468 - dense_1_precision_m: 0.9567 - dense_1_recall_m: 0.9394 - dense_1_f1_m: 0.9479 - dense_3_accuracy: 0.9580 - dense_3_precision_m: 0.9672 - dense_3_recall_m: 0.9511 - dense_3_f1_m: 0.9590 - val_loss: 0.5687 - val_dense_4_loss: 0.1943 - val_dense_1_loss: 0.1900 - val_dense_3_loss: 0.1845 - val_dense_4_accuracy: 0.9440 - val_dense_4_precision_m: 0.9525 - val_dense_4_recall_m: 0.9359 - val_dense_4_f1_m: 0.9441 - val_dense_1_accuracy: 0.9411 - val_dense_1_precision_m: 0.9492 - val_dense_1_recall_m: 0.9335 - val_dense_1_f1_m: 0.9412 - val_dense_3_accuracy: 0.9449 - val_dense_3_precision_m: 0.9543 - val_dense_3_recall_m: 0.9390 - val_dense_3_f1_m: 0.9465\n",
      "Epoch 40/50\n",
      "220/220 [==============================] - 523s 2s/step - loss: 0.4506 - dense_4_loss: 0.1321 - dense_1_loss: 0.1648 - dense_3_loss: 0.1537 - dense_4_accuracy: 0.9591 - dense_4_precision_m: 0.9659 - dense_4_recall_m: 0.9530 - dense_4_f1_m: 0.9593 - dense_1_accuracy: 0.9465 - dense_1_precision_m: 0.9550 - dense_1_recall_m: 0.9398 - dense_1_f1_m: 0.9473 - dense_3_accuracy: 0.9545 - dense_3_precision_m: 0.9633 - dense_3_recall_m: 0.9481 - dense_3_f1_m: 0.9556 - val_loss: 0.6118 - val_dense_4_loss: 0.1937 - val_dense_1_loss: 0.2008 - val_dense_3_loss: 0.2174 - val_dense_4_accuracy: 0.9447 - val_dense_4_precision_m: 0.9535 - val_dense_4_recall_m: 0.9364 - val_dense_4_f1_m: 0.9448 - val_dense_1_accuracy: 0.9381 - val_dense_1_precision_m: 0.9478 - val_dense_1_recall_m: 0.9313 - val_dense_1_f1_m: 0.9394 - val_dense_3_accuracy: 0.9397 - val_dense_3_precision_m: 0.9502 - val_dense_3_recall_m: 0.9332 - val_dense_3_f1_m: 0.9416\n",
      "Epoch 41/50\n",
      "220/220 [==============================] - 525s 2s/step - loss: 0.3526 - dense_4_loss: 0.0958 - dense_1_loss: 0.1393 - dense_3_loss: 0.1175 - dense_4_accuracy: 0.9694 - dense_4_precision_m: 0.9752 - dense_4_recall_m: 0.9655 - dense_4_f1_m: 0.9703 - dense_1_accuracy: 0.9552 - dense_1_precision_m: 0.9628 - dense_1_recall_m: 0.9477 - dense_1_f1_m: 0.9551 - dense_3_accuracy: 0.9641 - dense_3_precision_m: 0.9710 - dense_3_recall_m: 0.9577 - dense_3_f1_m: 0.9642 - val_loss: 0.4703 - val_dense_4_loss: 0.1446 - val_dense_1_loss: 0.1621 - val_dense_3_loss: 0.1637 - val_dense_4_accuracy: 0.9586 - val_dense_4_precision_m: 0.9625 - val_dense_4_recall_m: 0.9545 - val_dense_4_f1_m: 0.9585 - val_dense_1_accuracy: 0.9518 - val_dense_1_precision_m: 0.9561 - val_dense_1_recall_m: 0.9460 - val_dense_1_f1_m: 0.9510 - val_dense_3_accuracy: 0.9554 - val_dense_3_precision_m: 0.9598 - val_dense_3_recall_m: 0.9516 - val_dense_3_f1_m: 0.9557\n",
      "Epoch 42/50\n",
      "220/220 [==============================] - 520s 2s/step - loss: 0.4099 - dense_4_loss: 0.1131 - dense_1_loss: 0.1518 - dense_3_loss: 0.1451 - dense_4_accuracy: 0.9649 - dense_4_precision_m: 0.9712 - dense_4_recall_m: 0.9595 - dense_4_f1_m: 0.9653 - dense_1_accuracy: 0.9532 - dense_1_precision_m: 0.9610 - dense_1_recall_m: 0.9457 - dense_1_f1_m: 0.9533 - dense_3_accuracy: 0.9569 - dense_3_precision_m: 0.9652 - dense_3_recall_m: 0.9510 - dense_3_f1_m: 0.9580 - val_loss: 0.4172 - val_dense_4_loss: 0.1286 - val_dense_1_loss: 0.1518 - val_dense_3_loss: 0.1368 - val_dense_4_accuracy: 0.9600 - val_dense_4_precision_m: 0.9651 - val_dense_4_recall_m: 0.9557 - val_dense_4_f1_m: 0.9604 - val_dense_1_accuracy: 0.9563 - val_dense_1_precision_m: 0.9613 - val_dense_1_recall_m: 0.9507 - val_dense_1_f1_m: 0.9559 - val_dense_3_accuracy: 0.9561 - val_dense_3_precision_m: 0.9621 - val_dense_3_recall_m: 0.9511 - val_dense_3_f1_m: 0.9565\n",
      "Epoch 43/50\n",
      "220/220 [==============================] - 537s 2s/step - loss: 0.3577 - dense_4_loss: 0.0960 - dense_1_loss: 0.1416 - dense_3_loss: 0.1201 - dense_4_accuracy: 0.9701 - dense_4_precision_m: 0.9738 - dense_4_recall_m: 0.9658 - dense_4_f1_m: 0.9697 - dense_1_accuracy: 0.9539 - dense_1_precision_m: 0.9620 - dense_1_recall_m: 0.9469 - dense_1_f1_m: 0.9543 - dense_3_accuracy: 0.9633 - dense_3_precision_m: 0.9702 - dense_3_recall_m: 0.9561 - dense_3_f1_m: 0.9630 - val_loss: 0.5165 - val_dense_4_loss: 0.1592 - val_dense_1_loss: 0.1969 - val_dense_3_loss: 0.1604 - val_dense_4_accuracy: 0.9520 - val_dense_4_precision_m: 0.9570 - val_dense_4_recall_m: 0.9494 - val_dense_4_f1_m: 0.9532 - val_dense_1_accuracy: 0.9372 - val_dense_1_precision_m: 0.9456 - val_dense_1_recall_m: 0.9319 - val_dense_1_f1_m: 0.9386 - val_dense_3_accuracy: 0.9506 - val_dense_3_precision_m: 0.9576 - val_dense_3_recall_m: 0.9464 - val_dense_3_f1_m: 0.9519\n",
      "Epoch 44/50\n",
      "220/220 [==============================] - 517s 2s/step - loss: 0.3494 - dense_4_loss: 0.0971 - dense_1_loss: 0.1394 - dense_3_loss: 0.1129 - dense_4_accuracy: 0.9709 - dense_4_precision_m: 0.9749 - dense_4_recall_m: 0.9676 - dense_4_f1_m: 0.9712 - dense_1_accuracy: 0.9537 - dense_1_precision_m: 0.9598 - dense_1_recall_m: 0.9467 - dense_1_f1_m: 0.9531 - dense_3_accuracy: 0.9654 - dense_3_precision_m: 0.9710 - dense_3_recall_m: 0.9594 - dense_3_f1_m: 0.9651 - val_loss: 0.4341 - val_dense_4_loss: 0.1228 - val_dense_1_loss: 0.1620 - val_dense_3_loss: 0.1492 - val_dense_4_accuracy: 0.9616 - val_dense_4_precision_m: 0.9676 - val_dense_4_recall_m: 0.9580 - val_dense_4_f1_m: 0.9627 - val_dense_1_accuracy: 0.9477 - val_dense_1_precision_m: 0.9562 - val_dense_1_recall_m: 0.9452 - val_dense_1_f1_m: 0.9507 - val_dense_3_accuracy: 0.9570 - val_dense_3_precision_m: 0.9630 - val_dense_3_recall_m: 0.9528 - val_dense_3_f1_m: 0.9579\n",
      "Epoch 45/50\n",
      "220/220 [==============================] - 610s 3s/step - loss: 0.3385 - dense_4_loss: 0.0941 - dense_1_loss: 0.1271 - dense_3_loss: 0.1173 - dense_4_accuracy: 0.9716 - dense_4_precision_m: 0.9757 - dense_4_recall_m: 0.9675 - dense_4_f1_m: 0.9715 - dense_1_accuracy: 0.9602 - dense_1_precision_m: 0.9659 - dense_1_recall_m: 0.9545 - dense_1_f1_m: 0.9601 - dense_3_accuracy: 0.9654 - dense_3_precision_m: 0.9711 - dense_3_recall_m: 0.9602 - dense_3_f1_m: 0.9656 - val_loss: 0.4504 - val_dense_4_loss: 0.1462 - val_dense_1_loss: 0.1319 - val_dense_3_loss: 0.1724 - val_dense_4_accuracy: 0.9634 - val_dense_4_precision_m: 0.9688 - val_dense_4_recall_m: 0.9581 - val_dense_4_f1_m: 0.9634 - val_dense_1_accuracy: 0.9588 - val_dense_1_precision_m: 0.9652 - val_dense_1_recall_m: 0.9545 - val_dense_1_f1_m: 0.9598 - val_dense_3_accuracy: 0.9575 - val_dense_3_precision_m: 0.9650 - val_dense_3_recall_m: 0.9520 - val_dense_3_f1_m: 0.9584\n",
      "Epoch 46/50\n",
      "220/220 [==============================] - 504s 2s/step - loss: 0.3408 - dense_4_loss: 0.0878 - dense_1_loss: 0.1387 - dense_3_loss: 0.1142 - dense_4_accuracy: 0.9727 - dense_4_precision_m: 0.9765 - dense_4_recall_m: 0.9689 - dense_4_f1_m: 0.9727 - dense_1_accuracy: 0.9553 - dense_1_precision_m: 0.9620 - dense_1_recall_m: 0.9496 - dense_1_f1_m: 0.9557 - dense_3_accuracy: 0.9670 - dense_3_precision_m: 0.9719 - dense_3_recall_m: 0.9622 - dense_3_f1_m: 0.9670 - val_loss: 0.3965 - val_dense_4_loss: 0.1161 - val_dense_1_loss: 0.1339 - val_dense_3_loss: 0.1465 - val_dense_4_accuracy: 0.9654 - val_dense_4_precision_m: 0.9695 - val_dense_4_recall_m: 0.9627 - val_dense_4_f1_m: 0.9660 - val_dense_1_accuracy: 0.9584 - val_dense_1_precision_m: 0.9629 - val_dense_1_recall_m: 0.9534 - val_dense_1_f1_m: 0.9581 - val_dense_3_accuracy: 0.9581 - val_dense_3_precision_m: 0.9627 - val_dense_3_recall_m: 0.9545 - val_dense_3_f1_m: 0.9586\n",
      "Epoch 47/50\n",
      "220/220 [==============================] - 535s 2s/step - loss: 0.3572 - dense_4_loss: 0.0927 - dense_1_loss: 0.1483 - dense_3_loss: 0.1163 - dense_4_accuracy: 0.9704 - dense_4_precision_m: 0.9748 - dense_4_recall_m: 0.9671 - dense_4_f1_m: 0.9709 - dense_1_accuracy: 0.9538 - dense_1_precision_m: 0.9608 - dense_1_recall_m: 0.9482 - dense_1_f1_m: 0.9544 - dense_3_accuracy: 0.9661 - dense_3_precision_m: 0.9713 - dense_3_recall_m: 0.9601 - dense_3_f1_m: 0.9656 - val_loss: 0.5634 - val_dense_4_loss: 0.1724 - val_dense_1_loss: 0.1918 - val_dense_3_loss: 0.1992 - val_dense_4_accuracy: 0.9502 - val_dense_4_precision_m: 0.9571 - val_dense_4_recall_m: 0.9420 - val_dense_4_f1_m: 0.9494 - val_dense_1_accuracy: 0.9424 - val_dense_1_precision_m: 0.9495 - val_dense_1_recall_m: 0.9352 - val_dense_1_f1_m: 0.9422 - val_dense_3_accuracy: 0.9475 - val_dense_3_precision_m: 0.9549 - val_dense_3_recall_m: 0.9407 - val_dense_3_f1_m: 0.9477\n",
      "Epoch 48/50\n",
      "220/220 [==============================] - 560s 3s/step - loss: 0.3988 - dense_4_loss: 0.1081 - dense_1_loss: 0.1557 - dense_3_loss: 0.1349 - dense_4_accuracy: 0.9667 - dense_4_precision_m: 0.9723 - dense_4_recall_m: 0.9613 - dense_4_f1_m: 0.9667 - dense_1_accuracy: 0.9528 - dense_1_precision_m: 0.9610 - dense_1_recall_m: 0.9447 - dense_1_f1_m: 0.9527 - dense_3_accuracy: 0.9601 - dense_3_precision_m: 0.9671 - dense_3_recall_m: 0.9533 - dense_3_f1_m: 0.9601 - val_loss: 0.4198 - val_dense_4_loss: 0.1391 - val_dense_1_loss: 0.1306 - val_dense_3_loss: 0.1501 - val_dense_4_accuracy: 0.9604 - val_dense_4_precision_m: 0.9649 - val_dense_4_recall_m: 0.9570 - val_dense_4_f1_m: 0.9609 - val_dense_1_accuracy: 0.9602 - val_dense_1_precision_m: 0.9661 - val_dense_1_recall_m: 0.9549 - val_dense_1_f1_m: 0.9605 - val_dense_3_accuracy: 0.9602 - val_dense_3_precision_m: 0.9655 - val_dense_3_recall_m: 0.9556 - val_dense_3_f1_m: 0.9605\n",
      "Epoch 49/50\n",
      "220/220 [==============================] - 563s 3s/step - loss: 0.2892 - dense_4_loss: 0.0720 - dense_1_loss: 0.1215 - dense_3_loss: 0.0957 - dense_4_accuracy: 0.9786 - dense_4_precision_m: 0.9807 - dense_4_recall_m: 0.9761 - dense_4_f1_m: 0.9784 - dense_1_accuracy: 0.9618 - dense_1_precision_m: 0.9685 - dense_1_recall_m: 0.9567 - dense_1_f1_m: 0.9625 - dense_3_accuracy: 0.9712 - dense_3_precision_m: 0.9761 - dense_3_recall_m: 0.9669 - dense_3_f1_m: 0.9714 - val_loss: 0.6176 - val_dense_4_loss: 0.2186 - val_dense_1_loss: 0.1965 - val_dense_3_loss: 0.2025 - val_dense_4_accuracy: 0.9447 - val_dense_4_precision_m: 0.9535 - val_dense_4_recall_m: 0.9405 - val_dense_4_f1_m: 0.9469 - val_dense_1_accuracy: 0.9445 - val_dense_1_precision_m: 0.9508 - val_dense_1_recall_m: 0.9406 - val_dense_1_f1_m: 0.9456 - val_dense_3_accuracy: 0.9468 - val_dense_3_precision_m: 0.9545 - val_dense_3_recall_m: 0.9409 - val_dense_3_f1_m: 0.9476\n",
      "Epoch 50/50\n",
      "220/220 [==============================] - 586s 3s/step - loss: 0.2748 - dense_4_loss: 0.0723 - dense_1_loss: 0.1114 - dense_3_loss: 0.0911 - dense_4_accuracy: 0.9780 - dense_4_precision_m: 0.9809 - dense_4_recall_m: 0.9750 - dense_4_f1_m: 0.9779 - dense_1_accuracy: 0.9638 - dense_1_precision_m: 0.9693 - dense_1_recall_m: 0.9587 - dense_1_f1_m: 0.9639 - dense_3_accuracy: 0.9721 - dense_3_precision_m: 0.9763 - dense_3_recall_m: 0.9685 - dense_3_f1_m: 0.9724 - val_loss: 0.5924 - val_dense_4_loss: 0.1914 - val_dense_1_loss: 0.1926 - val_dense_3_loss: 0.2084 - val_dense_4_accuracy: 0.9461 - val_dense_4_precision_m: 0.9524 - val_dense_4_recall_m: 0.9409 - val_dense_4_f1_m: 0.9466 - val_dense_1_accuracy: 0.9393 - val_dense_1_precision_m: 0.9492 - val_dense_1_recall_m: 0.9332 - val_dense_1_f1_m: 0.9411 - val_dense_3_accuracy: 0.9399 - val_dense_3_precision_m: 0.9481 - val_dense_3_recall_m: 0.9323 - val_dense_3_f1_m: 0.9401\n"
     ]
    }
   ],
   "execution_count": 9
  },
  {
   "cell_type": "code",
   "metadata": {
    "id": "_HRzKfqMcvzx"
   },
   "source": [
    ""
   ],
   "outputs": [],
   "execution_count": null
  },
  {
   "cell_type": "code",
   "metadata": {
    "id": "OmQyGp9Y_KNx",
    "ExecuteTime": {
     "end_time": "2024-06-12T10:18:19.383177Z",
     "start_time": "2024-06-12T10:18:18.582137Z"
    }
   },
   "source": [
    "fig, axs = plt.subplots(2, 1, figsize=(15,15))\n",
    "axs[0].plot(incep.history['loss'])\n",
    "axs[0].plot(incep.history['val_loss'])\n",
    "axs[0].title.set_text('Training Loss vs Validation Loss')\n",
    "axs[0].set_xlabel('Epochs')\n",
    "axs[0].set_ylabel('Loss')\n",
    "axs[0].legend(['Train','Val'])\n",
    "axs[1].plot(incep.history['dense_4_accuracy'])\n",
    "axs[1].plot(incep.history['val_dense_4_accuracy'])\n",
    "axs[1].title.set_text('Training Accuracy vs Validation Accuracy')\n",
    "axs[1].set_xlabel('Epochs')\n",
    "axs[1].set_ylabel('Accuracy')\n",
    "axs[1].legend(['Train', 'Val'])"
   ],
   "outputs": [
    {
     "data": {
      "text/plain": [
       "<matplotlib.legend.Legend at 0x7fd8a8c0eb20>"
      ]
     },
     "execution_count": 11,
     "metadata": {},
     "output_type": "execute_result"
    },
    {
     "data": {
      "text/plain": [
       "<Figure size 1500x1500 with 2 Axes>"
      ],
      "image/png": "[encoded data removed]"
     },
     "metadata": {},
     "output_type": "display_data"
    }
   ],
   "execution_count": 11
  },
  {
   "cell_type": "code",
   "metadata": {
    "id": "SF0viu2ib9Qh"
   },
   "source": [
    ""
   ],
   "outputs": [],
   "execution_count": null
  },
  {
   "cell_type": "code",
   "metadata": {
    "id": "7yWAFFzHDSNI",
    "ExecuteTime": {
     "end_time": "2024-06-12T10:21:57.340955Z",
     "start_time": "2024-06-12T10:20:59.614175Z"
    }
   },
   "source": "pred = model.evaluate(test_set)",
   "outputs": [
    {
     "name": "stdout",
     "output_type": "stream",
     "text": [
      "55/55 [==============================] - 57s 1s/step - loss: 0.6906 - dense_4_loss: 0.2254 - dense_1_loss: 0.2032 - dense_3_loss: 0.2620 - dense_4_accuracy: 0.9392 - dense_4_precision_m: 0.9465 - dense_4_recall_m: 0.9339 - dense_4_f1_m: 0.9401 - dense_1_accuracy: 0.9387 - dense_1_precision_m: 0.9465 - dense_1_recall_m: 0.9335 - dense_1_f1_m: 0.9399 - dense_3_accuracy: 0.9358 - dense_3_precision_m: 0.9432 - dense_3_recall_m: 0.9274 - dense_3_f1_m: 0.9351\n"
     ]
    }
   ],
   "execution_count": 14
  },
  {
   "cell_type": "code",
   "metadata": {
    "id": "Jh_uj7bFGIqd",
    "ExecuteTime": {
     "end_time": "2024-06-12T10:21:57.788948Z",
     "start_time": "2024-06-12T10:21:57.343426Z"
    }
   },
   "source": "model.save('model_clf.h5')",
   "outputs": [],
   "execution_count": 15
  },
  {
   "metadata": {
    "ExecuteTime": {
     "end_time": "2024-06-12T12:40:45.058729Z",
     "start_time": "2024-06-12T12:40:45.054919Z"
    }
   },
   "cell_type": "code",
   "source": "pred",
   "outputs": [
    {
     "data": {
      "text/plain": [
       "[0.6906243562698364,\n",
       " 0.22538495063781738,\n",
       " 0.20324644446372986,\n",
       " 0.2619929611682892,\n",
       " 0.9392375946044922,\n",
       " 0.9465349912643433,\n",
       " 0.9338756799697876,\n",
       " 0.940118670463562,\n",
       " 0.9386643767356873,\n",
       " 0.9464610815048218,\n",
       " 0.9335399270057678,\n",
       " 0.939912736415863,\n",
       " 0.9357982277870178,\n",
       " 0.9431610107421875,\n",
       " 0.9273588061332703,\n",
       " 0.9351378083229065]"
      ]
     },
     "execution_count": 16,
     "metadata": {},
     "output_type": "execute_result"
    }
   ],
   "execution_count": 16
  },
  {
   "cell_type": "markdown",
   "metadata": {
    "id": "qpQafBJnGIqe"
   },
   "source": [
    "## Prediction using saved Model"
   ]
  },
  {
   "cell_type": "code",
   "metadata": {
    "id": "MpVzp8NkO0-t"
   },
   "source": [
    "# from sklearn.metrics import classification_report, confusion_matrix\n",
    "# import numpy as np\n",
    "# \n",
    "# y_pred = GoogLeNet_model.predict(test_generator)\n",
    "# #y_pred =(y_pred > 0.5)\n",
    "# #list(y_pred)\n",
    "# #cm = confusion_matrix(test_ds, y_pred)\n",
    "# print(y_pred)\n",
    "# \n"
   ],
   "outputs": [],
   "execution_count": null
  },
  {
   "cell_type": "code",
   "metadata": {
    "id": "bSYiYPE7L-vP"
   },
   "source": [
    "# y_pred = np.argmax(y_pred, axis=0)\n",
    "# print('Confusion Matrix')\n",
    "# \n",
    "# print(confusion_matrix(training_set.classes, y_pred))\n",
    "# print('Classification Report')\n",
    "# \n",
    "# print(classification_report(training_set.classes, y_pred , target_names=target_names))\n",
    "# #target_names = []\n",
    "# #print(classification_report(validation_generator.classes, y_pred, target_names=target_names))"
   ],
   "outputs": [],
   "execution_count": null
  },
  {
   "cell_type": "code",
   "metadata": {
    "id": "qvEl9rfEUSXX"
   },
   "source": [
    "# from google.colab import drive\n",
    "# drive.mount('/content/drive')"
   ],
   "outputs": [],
   "execution_count": null
  },
  {
   "cell_type": "code",
   "metadata": {
    "id": "PTarRvBaUOxu"
   },
   "source": [
    "# !pip install tensorflowjs\n",
    "# !tensorflowjs_converter --input_format keras \"model_clf.h5\" /content/drive/MyDrive/incp"
   ],
   "outputs": [],
   "execution_count": null
  }
 ]
}
